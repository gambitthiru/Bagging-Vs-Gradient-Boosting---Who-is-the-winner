{
 "cells": [
  {
   "cell_type": "markdown",
   "metadata": {},
   "source": [
    "#  Bagging Vs Gradient Boosting\n",
    "\n",
    "## About the Notebook: \n",
    "\n",
    "I have approached the case study in the following way. \n",
    "- Started with the data visualization, EDA and then worked on the Data Imputation and data encoding with the help of One hot Encoding library.\n",
    "- In modelling I first build a standalone models of logistic regression, Naive Bayes, Decision tree and Random forrest. \n",
    "- Then I used the ensemblem techniques - bagging and gradient boosting on the same dataset and build the same 4 models\n",
    "- Finally I had compared the confusion matrix, accuracy, presicion, recall and f1scores and given my conclusion for this exercise\n",
    "\n",
    "### About data:\n",
    "The data has 16 independent variables and 1 Target variable with is about which customer subscribe to the term deposits\n",
    "\n",
    "### Steps and tasks:\n",
    "\n",
    "1. Import the necessary libraries \n",
    "2. Read the data as a data frame\n",
    "3. Perform basic EDA which should include the following and print out your insights\n",
    "at every step.\n",
    "    a. Shape of the data \n",
    "    b. Data type of each attribute \n",
    "    c. Checking the presence of missing values \n",
    "    d. 5 Point summary of numerical attributes  \n",
    "    e. Checking the presence of outliers \n",
    "4. Prepare the data to train a model – check if data types are appropriate, get rid of\n",
    "the missing values etc. \n",
    "5. Train a few standard classification algorithms, note and comment on their\n",
    "performances across different classification metrics.\n",
    "6. Build the ensemble models and compare the results with the base models. Note:\n",
    "Random forest can be used only with Decision trees. \n",
    "7. Compare performances of all the models \n"
   ]
  },
  {
   "cell_type": "markdown",
   "metadata": {},
   "source": [
    "### 1. Import the necessary libraries\n"
   ]
  },
  {
   "cell_type": "code",
   "execution_count": 13,
   "metadata": {},
   "outputs": [],
   "source": [
    "import pandas as pd\n",
    "import numpy as np\n",
    "import matplotlib.pyplot as plt\n",
    "import seaborn as sns\n",
    "from sklearn.model_selection import train_test_split\n",
    "from sklearn.naive_bayes import GaussianNB\n",
    "from scipy.stats import zscore\n",
    "from sklearn import metrics\n",
    "from sklearn.linear_model import LogisticRegression\n",
    "from sklearn.metrics import confusion_matrix, classification_report, accuracy_score\n",
    "from sklearn.tree import DecisionTreeClassifier\n",
    "from sklearn import model_selection\n",
    "from sklearn.ensemble import BaggingClassifier, RandomForestClassifier\n",
    "from sklearn.naive_bayes import GaussianNB\n",
    "from sklearn.feature_selection import RFE\n",
    "%matplotlib inline"
   ]
  },
  {
   "cell_type": "markdown",
   "metadata": {},
   "source": [
    "### 2. Read the data as a data frame"
   ]
  },
  {
   "cell_type": "code",
   "execution_count": 14,
   "metadata": {},
   "outputs": [
    {
     "data": {
      "text/html": [
       "<div>\n",
       "<style scoped>\n",
       "    .dataframe tbody tr th:only-of-type {\n",
       "        vertical-align: middle;\n",
       "    }\n",
       "\n",
       "    .dataframe tbody tr th {\n",
       "        vertical-align: top;\n",
       "    }\n",
       "\n",
       "    .dataframe thead th {\n",
       "        text-align: right;\n",
       "    }\n",
       "</style>\n",
       "<table border=\"1\" class=\"dataframe\">\n",
       "  <thead>\n",
       "    <tr style=\"text-align: right;\">\n",
       "      <th></th>\n",
       "      <th>age</th>\n",
       "      <th>job</th>\n",
       "      <th>marital</th>\n",
       "      <th>education</th>\n",
       "      <th>default</th>\n",
       "      <th>balance</th>\n",
       "      <th>housing</th>\n",
       "      <th>loan</th>\n",
       "      <th>contact</th>\n",
       "      <th>day</th>\n",
       "      <th>month</th>\n",
       "      <th>duration</th>\n",
       "      <th>campaign</th>\n",
       "      <th>pdays</th>\n",
       "      <th>previous</th>\n",
       "      <th>poutcome</th>\n",
       "      <th>Target</th>\n",
       "    </tr>\n",
       "  </thead>\n",
       "  <tbody>\n",
       "    <tr>\n",
       "      <th>0</th>\n",
       "      <td>58</td>\n",
       "      <td>management</td>\n",
       "      <td>married</td>\n",
       "      <td>tertiary</td>\n",
       "      <td>no</td>\n",
       "      <td>2143</td>\n",
       "      <td>yes</td>\n",
       "      <td>no</td>\n",
       "      <td>unknown</td>\n",
       "      <td>5</td>\n",
       "      <td>may</td>\n",
       "      <td>261</td>\n",
       "      <td>1</td>\n",
       "      <td>-1</td>\n",
       "      <td>0</td>\n",
       "      <td>unknown</td>\n",
       "      <td>no</td>\n",
       "    </tr>\n",
       "    <tr>\n",
       "      <th>1</th>\n",
       "      <td>44</td>\n",
       "      <td>technician</td>\n",
       "      <td>single</td>\n",
       "      <td>secondary</td>\n",
       "      <td>no</td>\n",
       "      <td>29</td>\n",
       "      <td>yes</td>\n",
       "      <td>no</td>\n",
       "      <td>unknown</td>\n",
       "      <td>5</td>\n",
       "      <td>may</td>\n",
       "      <td>151</td>\n",
       "      <td>1</td>\n",
       "      <td>-1</td>\n",
       "      <td>0</td>\n",
       "      <td>unknown</td>\n",
       "      <td>no</td>\n",
       "    </tr>\n",
       "    <tr>\n",
       "      <th>2</th>\n",
       "      <td>33</td>\n",
       "      <td>entrepreneur</td>\n",
       "      <td>married</td>\n",
       "      <td>secondary</td>\n",
       "      <td>no</td>\n",
       "      <td>2</td>\n",
       "      <td>yes</td>\n",
       "      <td>yes</td>\n",
       "      <td>unknown</td>\n",
       "      <td>5</td>\n",
       "      <td>may</td>\n",
       "      <td>76</td>\n",
       "      <td>1</td>\n",
       "      <td>-1</td>\n",
       "      <td>0</td>\n",
       "      <td>unknown</td>\n",
       "      <td>no</td>\n",
       "    </tr>\n",
       "    <tr>\n",
       "      <th>3</th>\n",
       "      <td>47</td>\n",
       "      <td>blue-collar</td>\n",
       "      <td>married</td>\n",
       "      <td>unknown</td>\n",
       "      <td>no</td>\n",
       "      <td>1506</td>\n",
       "      <td>yes</td>\n",
       "      <td>no</td>\n",
       "      <td>unknown</td>\n",
       "      <td>5</td>\n",
       "      <td>may</td>\n",
       "      <td>92</td>\n",
       "      <td>1</td>\n",
       "      <td>-1</td>\n",
       "      <td>0</td>\n",
       "      <td>unknown</td>\n",
       "      <td>no</td>\n",
       "    </tr>\n",
       "    <tr>\n",
       "      <th>4</th>\n",
       "      <td>33</td>\n",
       "      <td>unknown</td>\n",
       "      <td>single</td>\n",
       "      <td>unknown</td>\n",
       "      <td>no</td>\n",
       "      <td>1</td>\n",
       "      <td>no</td>\n",
       "      <td>no</td>\n",
       "      <td>unknown</td>\n",
       "      <td>5</td>\n",
       "      <td>may</td>\n",
       "      <td>198</td>\n",
       "      <td>1</td>\n",
       "      <td>-1</td>\n",
       "      <td>0</td>\n",
       "      <td>unknown</td>\n",
       "      <td>no</td>\n",
       "    </tr>\n",
       "  </tbody>\n",
       "</table>\n",
       "</div>"
      ],
      "text/plain": [
       "   age           job  marital  education default  balance housing loan  \\\n",
       "0   58    management  married   tertiary      no     2143     yes   no   \n",
       "1   44    technician   single  secondary      no       29     yes   no   \n",
       "2   33  entrepreneur  married  secondary      no        2     yes  yes   \n",
       "3   47   blue-collar  married    unknown      no     1506     yes   no   \n",
       "4   33       unknown   single    unknown      no        1      no   no   \n",
       "\n",
       "   contact  day month  duration  campaign  pdays  previous poutcome Target  \n",
       "0  unknown    5   may       261         1     -1         0  unknown     no  \n",
       "1  unknown    5   may       151         1     -1         0  unknown     no  \n",
       "2  unknown    5   may        76         1     -1         0  unknown     no  \n",
       "3  unknown    5   may        92         1     -1         0  unknown     no  \n",
       "4  unknown    5   may       198         1     -1         0  unknown     no  "
      ]
     },
     "execution_count": 14,
     "metadata": {},
     "output_type": "execute_result"
    }
   ],
   "source": [
    "bk = pd.read_csv(\"C:/Users/thiruvenkadam/Documents/MLAI/GL AIML/Assignments/Ensemble techniques/Bank.csv\")\n",
    "bk.head()"
   ]
  },
  {
   "cell_type": "markdown",
   "metadata": {},
   "source": [
    "##### Insights\n",
    "- The data is has information of 17 parameters. 16 independent variables and one taget variable which is \"subcribtion to Term deposit\""
   ]
  },
  {
   "cell_type": "markdown",
   "metadata": {},
   "source": [
    "### 3.Perform basic EDA which should include the following and print out your insights at every step. \n",
    "\n"
   ]
  },
  {
   "cell_type": "code",
   "execution_count": 15,
   "metadata": {},
   "outputs": [
    {
     "data": {
      "text/html": [
       "<div>\n",
       "<style scoped>\n",
       "    .dataframe tbody tr th:only-of-type {\n",
       "        vertical-align: middle;\n",
       "    }\n",
       "\n",
       "    .dataframe tbody tr th {\n",
       "        vertical-align: top;\n",
       "    }\n",
       "\n",
       "    .dataframe thead th {\n",
       "        text-align: right;\n",
       "    }\n",
       "</style>\n",
       "<table border=\"1\" class=\"dataframe\">\n",
       "  <thead>\n",
       "    <tr style=\"text-align: right;\">\n",
       "      <th></th>\n",
       "      <th>age</th>\n",
       "      <th>balance</th>\n",
       "      <th>day</th>\n",
       "      <th>duration</th>\n",
       "      <th>campaign</th>\n",
       "      <th>pdays</th>\n",
       "      <th>previous</th>\n",
       "    </tr>\n",
       "  </thead>\n",
       "  <tbody>\n",
       "    <tr>\n",
       "      <th>count</th>\n",
       "      <td>45211.000000</td>\n",
       "      <td>45211.000000</td>\n",
       "      <td>45211.000000</td>\n",
       "      <td>45211.000000</td>\n",
       "      <td>45211.000000</td>\n",
       "      <td>45211.000000</td>\n",
       "      <td>45211.000000</td>\n",
       "    </tr>\n",
       "    <tr>\n",
       "      <th>mean</th>\n",
       "      <td>40.936210</td>\n",
       "      <td>1362.272058</td>\n",
       "      <td>15.806419</td>\n",
       "      <td>258.163080</td>\n",
       "      <td>2.763841</td>\n",
       "      <td>40.197828</td>\n",
       "      <td>0.580323</td>\n",
       "    </tr>\n",
       "    <tr>\n",
       "      <th>std</th>\n",
       "      <td>10.618762</td>\n",
       "      <td>3044.765829</td>\n",
       "      <td>8.322476</td>\n",
       "      <td>257.527812</td>\n",
       "      <td>3.098021</td>\n",
       "      <td>100.128746</td>\n",
       "      <td>2.303441</td>\n",
       "    </tr>\n",
       "    <tr>\n",
       "      <th>min</th>\n",
       "      <td>18.000000</td>\n",
       "      <td>-8019.000000</td>\n",
       "      <td>1.000000</td>\n",
       "      <td>0.000000</td>\n",
       "      <td>1.000000</td>\n",
       "      <td>-1.000000</td>\n",
       "      <td>0.000000</td>\n",
       "    </tr>\n",
       "    <tr>\n",
       "      <th>25%</th>\n",
       "      <td>33.000000</td>\n",
       "      <td>72.000000</td>\n",
       "      <td>8.000000</td>\n",
       "      <td>103.000000</td>\n",
       "      <td>1.000000</td>\n",
       "      <td>-1.000000</td>\n",
       "      <td>0.000000</td>\n",
       "    </tr>\n",
       "    <tr>\n",
       "      <th>50%</th>\n",
       "      <td>39.000000</td>\n",
       "      <td>448.000000</td>\n",
       "      <td>16.000000</td>\n",
       "      <td>180.000000</td>\n",
       "      <td>2.000000</td>\n",
       "      <td>-1.000000</td>\n",
       "      <td>0.000000</td>\n",
       "    </tr>\n",
       "    <tr>\n",
       "      <th>75%</th>\n",
       "      <td>48.000000</td>\n",
       "      <td>1428.000000</td>\n",
       "      <td>21.000000</td>\n",
       "      <td>319.000000</td>\n",
       "      <td>3.000000</td>\n",
       "      <td>-1.000000</td>\n",
       "      <td>0.000000</td>\n",
       "    </tr>\n",
       "    <tr>\n",
       "      <th>max</th>\n",
       "      <td>95.000000</td>\n",
       "      <td>102127.000000</td>\n",
       "      <td>31.000000</td>\n",
       "      <td>4918.000000</td>\n",
       "      <td>63.000000</td>\n",
       "      <td>871.000000</td>\n",
       "      <td>275.000000</td>\n",
       "    </tr>\n",
       "  </tbody>\n",
       "</table>\n",
       "</div>"
      ],
      "text/plain": [
       "                age        balance           day      duration      campaign  \\\n",
       "count  45211.000000   45211.000000  45211.000000  45211.000000  45211.000000   \n",
       "mean      40.936210    1362.272058     15.806419    258.163080      2.763841   \n",
       "std       10.618762    3044.765829      8.322476    257.527812      3.098021   \n",
       "min       18.000000   -8019.000000      1.000000      0.000000      1.000000   \n",
       "25%       33.000000      72.000000      8.000000    103.000000      1.000000   \n",
       "50%       39.000000     448.000000     16.000000    180.000000      2.000000   \n",
       "75%       48.000000    1428.000000     21.000000    319.000000      3.000000   \n",
       "max       95.000000  102127.000000     31.000000   4918.000000     63.000000   \n",
       "\n",
       "              pdays      previous  \n",
       "count  45211.000000  45211.000000  \n",
       "mean      40.197828      0.580323  \n",
       "std      100.128746      2.303441  \n",
       "min       -1.000000      0.000000  \n",
       "25%       -1.000000      0.000000  \n",
       "50%       -1.000000      0.000000  \n",
       "75%       -1.000000      0.000000  \n",
       "max      871.000000    275.000000  "
      ]
     },
     "execution_count": 15,
     "metadata": {},
     "output_type": "execute_result"
    }
   ],
   "source": [
    "bk.describe()"
   ]
  },
  {
   "cell_type": "markdown",
   "metadata": {},
   "source": [
    "#### Insights\n",
    "- The average age of customers in the dataset is 40\n",
    "- The average yearly balance for the customers in the dataset is 1362 and the median balance is 448, indicating the average is skewed due to few account holders maintaining high balance\n",
    "- The average call duration is 258 secs with median duration at around 180 secs. This should be because of few longrer calls"
   ]
  },
  {
   "cell_type": "markdown",
   "metadata": {},
   "source": [
    "### 3a. Shape of the data"
   ]
  },
  {
   "cell_type": "code",
   "execution_count": 10,
   "metadata": {
    "scrolled": true
   },
   "outputs": [
    {
     "data": {
      "text/plain": [
       "<matplotlib.axes._subplots.AxesSubplot at 0x1f316b1dda0>"
      ]
     },
     "execution_count": 10,
     "metadata": {},
     "output_type": "execute_result"
    },
    {
     "data": {
      "image/png": "[encoded data removed]",
      "text/plain": [
       "<Figure size 1440x720 with 4 Axes>"
      ]
     },
     "metadata": {
      "needs_background": "light"
     },
     "output_type": "display_data"
    }
   ],
   "source": [
    "# distribution of the continuous variables\n",
    "plt.figure(figsize=(20,10))\n",
    "plt.subplot(221)\n",
    "sns.distplot(bk[\"age\"], color=\"green\") # age column\n",
    "plt.subplot(222)\n",
    "sns.distplot(bk[\"balance\"], color=\"green\")# balance column\n",
    "plt.subplot(223)\n",
    "sns.distplot(bk[\"duration\"], color=\"orange\")# duration column\n",
    "plt.subplot(224)\n",
    "sns.distplot(bk[\"pdays\"], color = \"yellow\")# pdays column\n"
   ]
  },
  {
   "cell_type": "markdown",
   "metadata": {},
   "source": [
    "#### Insights\n",
    "- The age looks normally distributed with multiple smaller peaks and slightly skewed towards right due to few older customers\n",
    "- The average yearly balance data is extremely skewed towards right due to very few account holders having a balance of over 100k euros\n",
    "- The call duration data is also right skewed with few calls going over an hour and half"
   ]
  },
  {
   "cell_type": "markdown",
   "metadata": {},
   "source": [
    "### 3b. Data types of each attributes"
   ]
  },
  {
   "cell_type": "code",
   "execution_count": 75,
   "metadata": {},
   "outputs": [
    {
     "data": {
      "text/plain": [
       "age           int64\n",
       "job          object\n",
       "marital      object\n",
       "education    object\n",
       "default      object\n",
       "balance       int64\n",
       "housing      object\n",
       "loan         object\n",
       "contact      object\n",
       "day           int64\n",
       "month        object\n",
       "duration      int64\n",
       "campaign      int64\n",
       "pdays         int64\n",
       "previous      int64\n",
       "poutcome     object\n",
       "Target       object\n",
       "dtype: object"
      ]
     },
     "execution_count": 75,
     "metadata": {},
     "output_type": "execute_result"
    }
   ],
   "source": [
    "bk.dtypes"
   ]
  },
  {
   "cell_type": "markdown",
   "metadata": {},
   "source": [
    "### Insights\n",
    "- The dataset has 10 discrete columns and 7 Integer columns (which includes date and month)"
   ]
  },
  {
   "cell_type": "markdown",
   "metadata": {},
   "source": [
    "### 3c.Checking missing value in the dataframe"
   ]
  },
  {
   "cell_type": "code",
   "execution_count": 87,
   "metadata": {},
   "outputs": [
    {
     "data": {
      "text/plain": [
       "False"
      ]
     },
     "execution_count": 87,
     "metadata": {},
     "output_type": "execute_result"
    }
   ],
   "source": [
    "# Check for missing values\n",
    "bk.isnull().values.any()"
   ]
  },
  {
   "cell_type": "markdown",
   "metadata": {},
   "source": [
    "### Insights\n",
    "- There are no missing values in the data"
   ]
  },
  {
   "cell_type": "code",
   "execution_count": 31,
   "metadata": {},
   "outputs": [
    {
     "data": {
      "image/png": "[encoded data removed]",
      "text/plain": [
       "<Figure size 432x288 with 2 Axes>"
      ]
     },
     "metadata": {},
     "output_type": "display_data"
    }
   ],
   "source": [
    "# Pareto chart by job of customers\n",
    "from matplotlib.ticker import PercentFormatter\n",
    "bk_p = pd.DataFrame(bk[\"job\"].value_counts())\n",
    "bk_p[\"cumpercentage\"] = bk_p[\"job\"].cumsum()/bk_p[\"job\"].sum()*100 # Calculating cummulative percentage\n",
    "fig, ax = plt.subplots()\n",
    "ax.bar(bk_p.index, bk_p[\"job\"], color=\"C0\")\n",
    "ax2 = ax.twinx() # defining secondary axis for cummulative percent\n",
    "ax2.plot(bk_p.index, bk_p[\"cumpercentage\"], color=\"C1\", marker=\"D\", ms=1)\n",
    "ax2.yaxis.set_major_formatter(PercentFormatter())\n",
    "ax.tick_params(axis=\"y\", colors=\"C0\")\n",
    "ax2.tick_params(axis=\"y\", colors=\"C1\")\n",
    "ax.tick_params(axis=\"x\", colors=\"C3\", labelrotation = 45)\n",
    "plt.show()"
   ]
  },
  {
   "cell_type": "markdown",
   "metadata": {},
   "source": [
    "#### Insights\n",
    "- Customers in bluecollar job are the highest among all the job categories\n",
    "- Over 80% of customers comes under either of these 5 categories\n",
    "        - blue collar\n",
    "        - management\n",
    "        - technician\n",
    "        - admin\n",
    "        - services"
   ]
  },
  {
   "cell_type": "code",
   "execution_count": 35,
   "metadata": {
    "scrolled": true
   },
   "outputs": [
    {
     "data": {
      "image/png": "[encoded data removed]",
      "text/plain": [
       "<Figure size 720x720 with 4 Axes>"
      ]
     },
     "metadata": {
      "needs_background": "light"
     },
     "output_type": "display_data"
    }
   ],
   "source": [
    "# EDA of Discrete variables\n",
    "plt.figure(figsize=(10,10))\n",
    "plt.subplot(221)\n",
    "ax2=bk['marital'].value_counts().plot(kind='bar', color=\"orange\")\n",
    "ax2.title.set_text('Marital')\n",
    "plt.subplot(222)\n",
    "ax3 = plt.pie(bk['education'].value_counts(), labels = bk.education.unique(), autopct='%1.1f%%', labeldistance = 1.1,explode = (0.1, 0.1, 0.1, 0.1))\n",
    "plt.subplot(223)\n",
    "ax5=bk['housing'].value_counts().plot(kind='barh', color=\"blue\" )\n",
    "ax5.title.set_text('Housing Loan')\n",
    "plt.subplot(224)\n",
    "ax6=bk['loan'].value_counts().plot(kind='bar', color=\"green\" )\n",
    "ax6.title.set_text('Personal Loan')"
   ]
  },
  {
   "cell_type": "markdown",
   "metadata": {},
   "source": [
    "#### Insights\n",
    "- More than half of the customers in the dataset are married\n",
    "- More than half of the customers in the dataet are graduated (gone beyond secondary education)\n",
    "- over 60% of the people have housing loan and only around 40% dont have housing loan\n",
    "- Less than 20% of the population has personal loan"
   ]
  },
  {
   "cell_type": "markdown",
   "metadata": {},
   "source": [
    "### 3d & e 5 point summary and presence of outliers"
   ]
  },
  {
   "cell_type": "code",
   "execution_count": 36,
   "metadata": {},
   "outputs": [
    {
     "data": {
      "image/png": "[encoded data removed]",
      "text/plain": [
       "<Figure size 2160x1440 with 4 Axes>"
      ]
     },
     "metadata": {
      "needs_background": "light"
     },
     "output_type": "display_data"
    }
   ],
   "source": [
    "plt.figure(figsize=(30,20))\n",
    "plt.subplot(221)\n",
    "ax4=sns.boxplot(x=\"Target\", y=\"campaign\", hue=\"contact\",palette=\"Set1\", data=bk)\n",
    "ax4.title.set_text('Customer by Contact')\n",
    "plt.subplot(222)\n",
    "ax4=sns.boxplot(x=\"marital\", y=\"balance\", hue=\"Target\",palette=\"Set2\", data=bk)\n",
    "ax4.title.set_text('Customer by age - marital')\n",
    "plt.subplot(223)\n",
    "ax4=sns.boxplot(x=\"Target\", y=\"age\", hue=\"education\",palette=\"Set1\", data=bk)\n",
    "ax4.title.set_text('Customer by education - age')\n",
    "plt.subplot(224)\n",
    "ax4=sns.boxplot(x=\"job\", y=\"duration\", hue=\"Target\",palette=\"Set1\", data=bk)\n",
    "ax4.title.set_text('Customer by balance - job')"
   ]
  },
  {
   "cell_type": "markdown",
   "metadata": {},
   "source": [
    "### Insights\n",
    "- from the 2nd box plot it is visibile that customers with higher average yearly balance have subscribed to term deposits, which is in line with the common sense\n",
    "- The call duration seems to be higher in case of people who subscribed to term deposit. This can be the other way too, i.e the customer had subscribed for the product so the call duration is higher to collect more customer information\n",
    "- lot of outliers were found in both duration and balance data"
   ]
  },
  {
   "cell_type": "markdown",
   "metadata": {},
   "source": [
    "### Correlation matrix"
   ]
  },
  {
   "cell_type": "code",
   "execution_count": 37,
   "metadata": {},
   "outputs": [
    {
     "data": {
      "text/html": [
       "<style  type=\"text/css\" >\n",
       "    #T_80f80fb4_09d7_11ea_a515_e86a642ce835row0_col0 {\n",
       "            background-color:  #b40426;\n",
       "            color:  #f1f1f1;\n",
       "        }    #T_80f80fb4_09d7_11ea_a515_e86a642ce835row0_col1 {\n",
       "            background-color:  #5d7ce6;\n",
       "            color:  #000000;\n",
       "        }    #T_80f80fb4_09d7_11ea_a515_e86a642ce835row0_col2 {\n",
       "            background-color:  #516ddb;\n",
       "            color:  #000000;\n",
       "        }    #T_80f80fb4_09d7_11ea_a515_e86a642ce835row0_col3 {\n",
       "            background-color:  #506bda;\n",
       "            color:  #000000;\n",
       "        }    #T_80f80fb4_09d7_11ea_a515_e86a642ce835row0_col4 {\n",
       "            background-color:  #5470de;\n",
       "            color:  #000000;\n",
       "        }    #T_80f80fb4_09d7_11ea_a515_e86a642ce835row0_col5 {\n",
       "            background-color:  #4e68d8;\n",
       "            color:  #000000;\n",
       "        }    #T_80f80fb4_09d7_11ea_a515_e86a642ce835row0_col6 {\n",
       "            background-color:  #4961d2;\n",
       "            color:  #f1f1f1;\n",
       "        }    #T_80f80fb4_09d7_11ea_a515_e86a642ce835row1_col0 {\n",
       "            background-color:  #5f7fe8;\n",
       "            color:  #000000;\n",
       "        }    #T_80f80fb4_09d7_11ea_a515_e86a642ce835row1_col1 {\n",
       "            background-color:  #b40426;\n",
       "            color:  #f1f1f1;\n",
       "        }    #T_80f80fb4_09d7_11ea_a515_e86a642ce835row1_col2 {\n",
       "            background-color:  #5572df;\n",
       "            color:  #000000;\n",
       "        }    #T_80f80fb4_09d7_11ea_a515_e86a642ce835row1_col3 {\n",
       "            background-color:  #5977e3;\n",
       "            color:  #000000;\n",
       "        }    #T_80f80fb4_09d7_11ea_a515_e86a642ce835row1_col4 {\n",
       "            background-color:  #4f69d9;\n",
       "            color:  #000000;\n",
       "        }    #T_80f80fb4_09d7_11ea_a515_e86a642ce835row1_col5 {\n",
       "            background-color:  #5572df;\n",
       "            color:  #000000;\n",
       "        }    #T_80f80fb4_09d7_11ea_a515_e86a642ce835row1_col6 {\n",
       "            background-color:  #4e68d8;\n",
       "            color:  #000000;\n",
       "        }    #T_80f80fb4_09d7_11ea_a515_e86a642ce835row2_col0 {\n",
       "            background-color:  #3e51c5;\n",
       "            color:  #f1f1f1;\n",
       "        }    #T_80f80fb4_09d7_11ea_a515_e86a642ce835row2_col1 {\n",
       "            background-color:  #3f53c6;\n",
       "            color:  #f1f1f1;\n",
       "        }    #T_80f80fb4_09d7_11ea_a515_e86a642ce835row2_col2 {\n",
       "            background-color:  #b40426;\n",
       "            color:  #f1f1f1;\n",
       "        }    #T_80f80fb4_09d7_11ea_a515_e86a642ce835row2_col3 {\n",
       "            background-color:  #4961d2;\n",
       "            color:  #f1f1f1;\n",
       "        }    #T_80f80fb4_09d7_11ea_a515_e86a642ce835row2_col4 {\n",
       "            background-color:  #86a9fc;\n",
       "            color:  #000000;\n",
       "        }    #T_80f80fb4_09d7_11ea_a515_e86a642ce835row2_col5 {\n",
       "            background-color:  #3b4cc0;\n",
       "            color:  #f1f1f1;\n",
       "        }    #T_80f80fb4_09d7_11ea_a515_e86a642ce835row2_col6 {\n",
       "            background-color:  #3b4cc0;\n",
       "            color:  #f1f1f1;\n",
       "        }    #T_80f80fb4_09d7_11ea_a515_e86a642ce835row3_col0 {\n",
       "            background-color:  #3f53c6;\n",
       "            color:  #f1f1f1;\n",
       "        }    #T_80f80fb4_09d7_11ea_a515_e86a642ce835row3_col1 {\n",
       "            background-color:  #455cce;\n",
       "            color:  #f1f1f1;\n",
       "        }    #T_80f80fb4_09d7_11ea_a515_e86a642ce835row3_col2 {\n",
       "            background-color:  #4b64d5;\n",
       "            color:  #f1f1f1;\n",
       "        }    #T_80f80fb4_09d7_11ea_a515_e86a642ce835row3_col3 {\n",
       "            background-color:  #b40426;\n",
       "            color:  #f1f1f1;\n",
       "        }    #T_80f80fb4_09d7_11ea_a515_e86a642ce835row3_col4 {\n",
       "            background-color:  #3b4cc0;\n",
       "            color:  #f1f1f1;\n",
       "        }    #T_80f80fb4_09d7_11ea_a515_e86a642ce835row3_col5 {\n",
       "            background-color:  #5470de;\n",
       "            color:  #000000;\n",
       "        }    #T_80f80fb4_09d7_11ea_a515_e86a642ce835row3_col6 {\n",
       "            background-color:  #4961d2;\n",
       "            color:  #f1f1f1;\n",
       "        }    #T_80f80fb4_09d7_11ea_a515_e86a642ce835row4_col0 {\n",
       "            background-color:  #4358cb;\n",
       "            color:  #f1f1f1;\n",
       "        }    #T_80f80fb4_09d7_11ea_a515_e86a642ce835row4_col1 {\n",
       "            background-color:  #3b4cc0;\n",
       "            color:  #f1f1f1;\n",
       "        }    #T_80f80fb4_09d7_11ea_a515_e86a642ce835row4_col2 {\n",
       "            background-color:  #86a9fc;\n",
       "            color:  #000000;\n",
       "        }    #T_80f80fb4_09d7_11ea_a515_e86a642ce835row4_col3 {\n",
       "            background-color:  #3b4cc0;\n",
       "            color:  #f1f1f1;\n",
       "        }    #T_80f80fb4_09d7_11ea_a515_e86a642ce835row4_col4 {\n",
       "            background-color:  #b40426;\n",
       "            color:  #f1f1f1;\n",
       "        }    #T_80f80fb4_09d7_11ea_a515_e86a642ce835row4_col5 {\n",
       "            background-color:  #3c4ec2;\n",
       "            color:  #f1f1f1;\n",
       "        }    #T_80f80fb4_09d7_11ea_a515_e86a642ce835row4_col6 {\n",
       "            background-color:  #3f53c6;\n",
       "            color:  #f1f1f1;\n",
       "        }    #T_80f80fb4_09d7_11ea_a515_e86a642ce835row5_col0 {\n",
       "            background-color:  #3b4cc0;\n",
       "            color:  #f1f1f1;\n",
       "        }    #T_80f80fb4_09d7_11ea_a515_e86a642ce835row5_col1 {\n",
       "            background-color:  #3f53c6;\n",
       "            color:  #f1f1f1;\n",
       "        }    #T_80f80fb4_09d7_11ea_a515_e86a642ce835row5_col2 {\n",
       "            background-color:  #3b4cc0;\n",
       "            color:  #f1f1f1;\n",
       "        }    #T_80f80fb4_09d7_11ea_a515_e86a642ce835row5_col3 {\n",
       "            background-color:  #516ddb;\n",
       "            color:  #000000;\n",
       "        }    #T_80f80fb4_09d7_11ea_a515_e86a642ce835row5_col4 {\n",
       "            background-color:  #3b4cc0;\n",
       "            color:  #f1f1f1;\n",
       "        }    #T_80f80fb4_09d7_11ea_a515_e86a642ce835row5_col5 {\n",
       "            background-color:  #b40426;\n",
       "            color:  #f1f1f1;\n",
       "        }    #T_80f80fb4_09d7_11ea_a515_e86a642ce835row5_col6 {\n",
       "            background-color:  #d8dce2;\n",
       "            color:  #000000;\n",
       "        }    #T_80f80fb4_09d7_11ea_a515_e86a642ce835row6_col0 {\n",
       "            background-color:  #4257c9;\n",
       "            color:  #f1f1f1;\n",
       "        }    #T_80f80fb4_09d7_11ea_a515_e86a642ce835row6_col1 {\n",
       "            background-color:  #4358cb;\n",
       "            color:  #f1f1f1;\n",
       "        }    #T_80f80fb4_09d7_11ea_a515_e86a642ce835row6_col2 {\n",
       "            background-color:  #455cce;\n",
       "            color:  #f1f1f1;\n",
       "        }    #T_80f80fb4_09d7_11ea_a515_e86a642ce835row6_col3 {\n",
       "            background-color:  #536edd;\n",
       "            color:  #000000;\n",
       "        }    #T_80f80fb4_09d7_11ea_a515_e86a642ce835row6_col4 {\n",
       "            background-color:  #4a63d3;\n",
       "            color:  #f1f1f1;\n",
       "        }    #T_80f80fb4_09d7_11ea_a515_e86a642ce835row6_col5 {\n",
       "            background-color:  #dddcdc;\n",
       "            color:  #000000;\n",
       "        }    #T_80f80fb4_09d7_11ea_a515_e86a642ce835row6_col6 {\n",
       "            background-color:  #b40426;\n",
       "            color:  #f1f1f1;\n",
       "        }</style><table id=\"T_80f80fb4_09d7_11ea_a515_e86a642ce835\" ><thead>    <tr>        <th class=\"blank level0\" ></th>        <th class=\"col_heading level0 col0\" >age</th>        <th class=\"col_heading level0 col1\" >balance</th>        <th class=\"col_heading level0 col2\" >day</th>        <th class=\"col_heading level0 col3\" >duration</th>        <th class=\"col_heading level0 col4\" >campaign</th>        <th class=\"col_heading level0 col5\" >pdays</th>        <th class=\"col_heading level0 col6\" >previous</th>    </tr></thead><tbody>\n",
       "                <tr>\n",
       "                        <th id=\"T_80f80fb4_09d7_11ea_a515_e86a642ce835level0_row0\" class=\"row_heading level0 row0\" >age</th>\n",
       "                        <td id=\"T_80f80fb4_09d7_11ea_a515_e86a642ce835row0_col0\" class=\"data row0 col0\" >1</td>\n",
       "                        <td id=\"T_80f80fb4_09d7_11ea_a515_e86a642ce835row0_col1\" class=\"data row0 col1\" >0.1</td>\n",
       "                        <td id=\"T_80f80fb4_09d7_11ea_a515_e86a642ce835row0_col2\" class=\"data row0 col2\" >-0.009</td>\n",
       "                        <td id=\"T_80f80fb4_09d7_11ea_a515_e86a642ce835row0_col3\" class=\"data row0 col3\" >-0.005</td>\n",
       "                        <td id=\"T_80f80fb4_09d7_11ea_a515_e86a642ce835row0_col4\" class=\"data row0 col4\" >0.005</td>\n",
       "                        <td id=\"T_80f80fb4_09d7_11ea_a515_e86a642ce835row0_col5\" class=\"data row0 col5\" >-0.02</td>\n",
       "                        <td id=\"T_80f80fb4_09d7_11ea_a515_e86a642ce835row0_col6\" class=\"data row0 col6\" >0.001</td>\n",
       "            </tr>\n",
       "            <tr>\n",
       "                        <th id=\"T_80f80fb4_09d7_11ea_a515_e86a642ce835level0_row1\" class=\"row_heading level0 row1\" >balance</th>\n",
       "                        <td id=\"T_80f80fb4_09d7_11ea_a515_e86a642ce835row1_col0\" class=\"data row1 col0\" >0.1</td>\n",
       "                        <td id=\"T_80f80fb4_09d7_11ea_a515_e86a642ce835row1_col1\" class=\"data row1 col1\" >1</td>\n",
       "                        <td id=\"T_80f80fb4_09d7_11ea_a515_e86a642ce835row1_col2\" class=\"data row1 col2\" >0.005</td>\n",
       "                        <td id=\"T_80f80fb4_09d7_11ea_a515_e86a642ce835row1_col3\" class=\"data row1 col3\" >0.02</td>\n",
       "                        <td id=\"T_80f80fb4_09d7_11ea_a515_e86a642ce835row1_col4\" class=\"data row1 col4\" >-0.01</td>\n",
       "                        <td id=\"T_80f80fb4_09d7_11ea_a515_e86a642ce835row1_col5\" class=\"data row1 col5\" >0.003</td>\n",
       "                        <td id=\"T_80f80fb4_09d7_11ea_a515_e86a642ce835row1_col6\" class=\"data row1 col6\" >0.02</td>\n",
       "            </tr>\n",
       "            <tr>\n",
       "                        <th id=\"T_80f80fb4_09d7_11ea_a515_e86a642ce835level0_row2\" class=\"row_heading level0 row2\" >day</th>\n",
       "                        <td id=\"T_80f80fb4_09d7_11ea_a515_e86a642ce835row2_col0\" class=\"data row2 col0\" >-0.009</td>\n",
       "                        <td id=\"T_80f80fb4_09d7_11ea_a515_e86a642ce835row2_col1\" class=\"data row2 col1\" >0.005</td>\n",
       "                        <td id=\"T_80f80fb4_09d7_11ea_a515_e86a642ce835row2_col2\" class=\"data row2 col2\" >1</td>\n",
       "                        <td id=\"T_80f80fb4_09d7_11ea_a515_e86a642ce835row2_col3\" class=\"data row2 col3\" >-0.03</td>\n",
       "                        <td id=\"T_80f80fb4_09d7_11ea_a515_e86a642ce835row2_col4\" class=\"data row2 col4\" >0.2</td>\n",
       "                        <td id=\"T_80f80fb4_09d7_11ea_a515_e86a642ce835row2_col5\" class=\"data row2 col5\" >-0.09</td>\n",
       "                        <td id=\"T_80f80fb4_09d7_11ea_a515_e86a642ce835row2_col6\" class=\"data row2 col6\" >-0.05</td>\n",
       "            </tr>\n",
       "            <tr>\n",
       "                        <th id=\"T_80f80fb4_09d7_11ea_a515_e86a642ce835level0_row3\" class=\"row_heading level0 row3\" >duration</th>\n",
       "                        <td id=\"T_80f80fb4_09d7_11ea_a515_e86a642ce835row3_col0\" class=\"data row3 col0\" >-0.005</td>\n",
       "                        <td id=\"T_80f80fb4_09d7_11ea_a515_e86a642ce835row3_col1\" class=\"data row3 col1\" >0.02</td>\n",
       "                        <td id=\"T_80f80fb4_09d7_11ea_a515_e86a642ce835row3_col2\" class=\"data row3 col2\" >-0.03</td>\n",
       "                        <td id=\"T_80f80fb4_09d7_11ea_a515_e86a642ce835row3_col3\" class=\"data row3 col3\" >1</td>\n",
       "                        <td id=\"T_80f80fb4_09d7_11ea_a515_e86a642ce835row3_col4\" class=\"data row3 col4\" >-0.08</td>\n",
       "                        <td id=\"T_80f80fb4_09d7_11ea_a515_e86a642ce835row3_col5\" class=\"data row3 col5\" >-0.002</td>\n",
       "                        <td id=\"T_80f80fb4_09d7_11ea_a515_e86a642ce835row3_col6\" class=\"data row3 col6\" >0.001</td>\n",
       "            </tr>\n",
       "            <tr>\n",
       "                        <th id=\"T_80f80fb4_09d7_11ea_a515_e86a642ce835level0_row4\" class=\"row_heading level0 row4\" >campaign</th>\n",
       "                        <td id=\"T_80f80fb4_09d7_11ea_a515_e86a642ce835row4_col0\" class=\"data row4 col0\" >0.005</td>\n",
       "                        <td id=\"T_80f80fb4_09d7_11ea_a515_e86a642ce835row4_col1\" class=\"data row4 col1\" >-0.01</td>\n",
       "                        <td id=\"T_80f80fb4_09d7_11ea_a515_e86a642ce835row4_col2\" class=\"data row4 col2\" >0.2</td>\n",
       "                        <td id=\"T_80f80fb4_09d7_11ea_a515_e86a642ce835row4_col3\" class=\"data row4 col3\" >-0.08</td>\n",
       "                        <td id=\"T_80f80fb4_09d7_11ea_a515_e86a642ce835row4_col4\" class=\"data row4 col4\" >1</td>\n",
       "                        <td id=\"T_80f80fb4_09d7_11ea_a515_e86a642ce835row4_col5\" class=\"data row4 col5\" >-0.09</td>\n",
       "                        <td id=\"T_80f80fb4_09d7_11ea_a515_e86a642ce835row4_col6\" class=\"data row4 col6\" >-0.03</td>\n",
       "            </tr>\n",
       "            <tr>\n",
       "                        <th id=\"T_80f80fb4_09d7_11ea_a515_e86a642ce835level0_row5\" class=\"row_heading level0 row5\" >pdays</th>\n",
       "                        <td id=\"T_80f80fb4_09d7_11ea_a515_e86a642ce835row5_col0\" class=\"data row5 col0\" >-0.02</td>\n",
       "                        <td id=\"T_80f80fb4_09d7_11ea_a515_e86a642ce835row5_col1\" class=\"data row5 col1\" >0.003</td>\n",
       "                        <td id=\"T_80f80fb4_09d7_11ea_a515_e86a642ce835row5_col2\" class=\"data row5 col2\" >-0.09</td>\n",
       "                        <td id=\"T_80f80fb4_09d7_11ea_a515_e86a642ce835row5_col3\" class=\"data row5 col3\" >-0.002</td>\n",
       "                        <td id=\"T_80f80fb4_09d7_11ea_a515_e86a642ce835row5_col4\" class=\"data row5 col4\" >-0.09</td>\n",
       "                        <td id=\"T_80f80fb4_09d7_11ea_a515_e86a642ce835row5_col5\" class=\"data row5 col5\" >1</td>\n",
       "                        <td id=\"T_80f80fb4_09d7_11ea_a515_e86a642ce835row5_col6\" class=\"data row5 col6\" >0.5</td>\n",
       "            </tr>\n",
       "            <tr>\n",
       "                        <th id=\"T_80f80fb4_09d7_11ea_a515_e86a642ce835level0_row6\" class=\"row_heading level0 row6\" >previous</th>\n",
       "                        <td id=\"T_80f80fb4_09d7_11ea_a515_e86a642ce835row6_col0\" class=\"data row6 col0\" >0.001</td>\n",
       "                        <td id=\"T_80f80fb4_09d7_11ea_a515_e86a642ce835row6_col1\" class=\"data row6 col1\" >0.02</td>\n",
       "                        <td id=\"T_80f80fb4_09d7_11ea_a515_e86a642ce835row6_col2\" class=\"data row6 col2\" >-0.05</td>\n",
       "                        <td id=\"T_80f80fb4_09d7_11ea_a515_e86a642ce835row6_col3\" class=\"data row6 col3\" >0.001</td>\n",
       "                        <td id=\"T_80f80fb4_09d7_11ea_a515_e86a642ce835row6_col4\" class=\"data row6 col4\" >-0.03</td>\n",
       "                        <td id=\"T_80f80fb4_09d7_11ea_a515_e86a642ce835row6_col5\" class=\"data row6 col5\" >0.5</td>\n",
       "                        <td id=\"T_80f80fb4_09d7_11ea_a515_e86a642ce835row6_col6\" class=\"data row6 col6\" >1</td>\n",
       "            </tr>\n",
       "    </tbody></table>"
      ],
      "text/plain": [
       "<pandas.io.formats.style.Styler at 0x1f319c00a58>"
      ]
     },
     "execution_count": 37,
     "metadata": {},
     "output_type": "execute_result"
    }
   ],
   "source": [
    "bk.corr().style.background_gradient(cmap='coolwarm').set_precision(1)"
   ]
  },
  {
   "cell_type": "markdown",
   "metadata": {},
   "source": [
    "### Insights\n",
    "- none of the variables has any significant correlation between each other"
   ]
  },
  {
   "cell_type": "markdown",
   "metadata": {},
   "source": [
    "### 4. Prepare the data to train the model"
   ]
  },
  {
   "cell_type": "code",
   "execution_count": 16,
   "metadata": {},
   "outputs": [
    {
     "data": {
      "text/html": [
       "<div>\n",
       "<style scoped>\n",
       "    .dataframe tbody tr th:only-of-type {\n",
       "        vertical-align: middle;\n",
       "    }\n",
       "\n",
       "    .dataframe tbody tr th {\n",
       "        vertical-align: top;\n",
       "    }\n",
       "\n",
       "    .dataframe thead th {\n",
       "        text-align: right;\n",
       "    }\n",
       "</style>\n",
       "<table border=\"1\" class=\"dataframe\">\n",
       "  <thead>\n",
       "    <tr style=\"text-align: right;\">\n",
       "      <th></th>\n",
       "      <th>age</th>\n",
       "      <th>job</th>\n",
       "      <th>marital</th>\n",
       "      <th>education</th>\n",
       "      <th>default</th>\n",
       "      <th>balance</th>\n",
       "      <th>housing</th>\n",
       "      <th>loan</th>\n",
       "      <th>contact</th>\n",
       "      <th>day</th>\n",
       "      <th>month</th>\n",
       "      <th>duration</th>\n",
       "      <th>campaign</th>\n",
       "      <th>pdays</th>\n",
       "      <th>previous</th>\n",
       "      <th>poutcome</th>\n",
       "      <th>Target</th>\n",
       "    </tr>\n",
       "  </thead>\n",
       "  <tbody>\n",
       "    <tr>\n",
       "      <th>0</th>\n",
       "      <td>58</td>\n",
       "      <td>management</td>\n",
       "      <td>married</td>\n",
       "      <td>tertiary</td>\n",
       "      <td>no</td>\n",
       "      <td>2143</td>\n",
       "      <td>yes</td>\n",
       "      <td>no</td>\n",
       "      <td>unknown</td>\n",
       "      <td>5</td>\n",
       "      <td>5</td>\n",
       "      <td>261</td>\n",
       "      <td>1</td>\n",
       "      <td>-1</td>\n",
       "      <td>0</td>\n",
       "      <td>unknown</td>\n",
       "      <td>no</td>\n",
       "    </tr>\n",
       "    <tr>\n",
       "      <th>1</th>\n",
       "      <td>44</td>\n",
       "      <td>technician</td>\n",
       "      <td>single</td>\n",
       "      <td>secondary</td>\n",
       "      <td>no</td>\n",
       "      <td>29</td>\n",
       "      <td>yes</td>\n",
       "      <td>no</td>\n",
       "      <td>unknown</td>\n",
       "      <td>5</td>\n",
       "      <td>5</td>\n",
       "      <td>151</td>\n",
       "      <td>1</td>\n",
       "      <td>-1</td>\n",
       "      <td>0</td>\n",
       "      <td>unknown</td>\n",
       "      <td>no</td>\n",
       "    </tr>\n",
       "    <tr>\n",
       "      <th>2</th>\n",
       "      <td>33</td>\n",
       "      <td>entrepreneur</td>\n",
       "      <td>married</td>\n",
       "      <td>secondary</td>\n",
       "      <td>no</td>\n",
       "      <td>2</td>\n",
       "      <td>yes</td>\n",
       "      <td>yes</td>\n",
       "      <td>unknown</td>\n",
       "      <td>5</td>\n",
       "      <td>5</td>\n",
       "      <td>76</td>\n",
       "      <td>1</td>\n",
       "      <td>-1</td>\n",
       "      <td>0</td>\n",
       "      <td>unknown</td>\n",
       "      <td>no</td>\n",
       "    </tr>\n",
       "    <tr>\n",
       "      <th>3</th>\n",
       "      <td>47</td>\n",
       "      <td>blue-collar</td>\n",
       "      <td>married</td>\n",
       "      <td>unknown</td>\n",
       "      <td>no</td>\n",
       "      <td>1506</td>\n",
       "      <td>yes</td>\n",
       "      <td>no</td>\n",
       "      <td>unknown</td>\n",
       "      <td>5</td>\n",
       "      <td>5</td>\n",
       "      <td>92</td>\n",
       "      <td>1</td>\n",
       "      <td>-1</td>\n",
       "      <td>0</td>\n",
       "      <td>unknown</td>\n",
       "      <td>no</td>\n",
       "    </tr>\n",
       "    <tr>\n",
       "      <th>4</th>\n",
       "      <td>33</td>\n",
       "      <td>unknown</td>\n",
       "      <td>single</td>\n",
       "      <td>unknown</td>\n",
       "      <td>no</td>\n",
       "      <td>1</td>\n",
       "      <td>no</td>\n",
       "      <td>no</td>\n",
       "      <td>unknown</td>\n",
       "      <td>5</td>\n",
       "      <td>5</td>\n",
       "      <td>198</td>\n",
       "      <td>1</td>\n",
       "      <td>-1</td>\n",
       "      <td>0</td>\n",
       "      <td>unknown</td>\n",
       "      <td>no</td>\n",
       "    </tr>\n",
       "  </tbody>\n",
       "</table>\n",
       "</div>"
      ],
      "text/plain": [
       "   age           job  marital  education default  balance housing loan  \\\n",
       "0   58    management  married   tertiary      no     2143     yes   no   \n",
       "1   44    technician   single  secondary      no       29     yes   no   \n",
       "2   33  entrepreneur  married  secondary      no        2     yes  yes   \n",
       "3   47   blue-collar  married    unknown      no     1506     yes   no   \n",
       "4   33       unknown   single    unknown      no        1      no   no   \n",
       "\n",
       "   contact  day  month  duration  campaign  pdays  previous poutcome Target  \n",
       "0  unknown    5      5       261         1     -1         0  unknown     no  \n",
       "1  unknown    5      5       151         1     -1         0  unknown     no  \n",
       "2  unknown    5      5        76         1     -1         0  unknown     no  \n",
       "3  unknown    5      5        92         1     -1         0  unknown     no  \n",
       "4  unknown    5      5       198         1     -1         0  unknown     no  "
      ]
     },
     "execution_count": 16,
     "metadata": {},
     "output_type": "execute_result"
    }
   ],
   "source": [
    "dict = {\"jan\": 1, \"feb\": 2, \"mar\": 3, \"apr\": 4, \"may\": 5, \"jun\": 6, \"jul\": 7, \"aug\": 8, \"sep\": 9, \"oct\": 10, \"nov\": 11, \"dec\": 12}\n",
    "bk1 = bk.replace({\"month\": dict}) # replacing the months to numeric value\n",
    "bk1.head()"
   ]
  },
  {
   "cell_type": "code",
   "execution_count": 17,
   "metadata": {},
   "outputs": [
    {
     "data": {
      "text/html": [
       "<div>\n",
       "<style scoped>\n",
       "    .dataframe tbody tr th:only-of-type {\n",
       "        vertical-align: middle;\n",
       "    }\n",
       "\n",
       "    .dataframe tbody tr th {\n",
       "        vertical-align: top;\n",
       "    }\n",
       "\n",
       "    .dataframe thead th {\n",
       "        text-align: right;\n",
       "    }\n",
       "</style>\n",
       "<table border=\"1\" class=\"dataframe\">\n",
       "  <thead>\n",
       "    <tr style=\"text-align: right;\">\n",
       "      <th></th>\n",
       "      <th>age</th>\n",
       "      <th>job</th>\n",
       "      <th>marital</th>\n",
       "      <th>education</th>\n",
       "      <th>default</th>\n",
       "      <th>balance</th>\n",
       "      <th>housing</th>\n",
       "      <th>loan</th>\n",
       "      <th>contact</th>\n",
       "      <th>day</th>\n",
       "      <th>month</th>\n",
       "      <th>duration</th>\n",
       "      <th>campaign</th>\n",
       "      <th>pdays</th>\n",
       "      <th>previous</th>\n",
       "      <th>poutcome</th>\n",
       "      <th>Target</th>\n",
       "    </tr>\n",
       "  </thead>\n",
       "  <tbody>\n",
       "    <tr>\n",
       "      <th>0</th>\n",
       "      <td>58</td>\n",
       "      <td>management</td>\n",
       "      <td>married</td>\n",
       "      <td>tertiary</td>\n",
       "      <td>no</td>\n",
       "      <td>2143</td>\n",
       "      <td>yes</td>\n",
       "      <td>no</td>\n",
       "      <td>unknown</td>\n",
       "      <td>5</td>\n",
       "      <td>5</td>\n",
       "      <td>261</td>\n",
       "      <td>1</td>\n",
       "      <td>-1</td>\n",
       "      <td>0</td>\n",
       "      <td>unknown</td>\n",
       "      <td>0</td>\n",
       "    </tr>\n",
       "    <tr>\n",
       "      <th>1</th>\n",
       "      <td>44</td>\n",
       "      <td>technician</td>\n",
       "      <td>single</td>\n",
       "      <td>secondary</td>\n",
       "      <td>no</td>\n",
       "      <td>29</td>\n",
       "      <td>yes</td>\n",
       "      <td>no</td>\n",
       "      <td>unknown</td>\n",
       "      <td>5</td>\n",
       "      <td>5</td>\n",
       "      <td>151</td>\n",
       "      <td>1</td>\n",
       "      <td>-1</td>\n",
       "      <td>0</td>\n",
       "      <td>unknown</td>\n",
       "      <td>0</td>\n",
       "    </tr>\n",
       "    <tr>\n",
       "      <th>2</th>\n",
       "      <td>33</td>\n",
       "      <td>entrepreneur</td>\n",
       "      <td>married</td>\n",
       "      <td>secondary</td>\n",
       "      <td>no</td>\n",
       "      <td>2</td>\n",
       "      <td>yes</td>\n",
       "      <td>yes</td>\n",
       "      <td>unknown</td>\n",
       "      <td>5</td>\n",
       "      <td>5</td>\n",
       "      <td>76</td>\n",
       "      <td>1</td>\n",
       "      <td>-1</td>\n",
       "      <td>0</td>\n",
       "      <td>unknown</td>\n",
       "      <td>0</td>\n",
       "    </tr>\n",
       "    <tr>\n",
       "      <th>3</th>\n",
       "      <td>47</td>\n",
       "      <td>blue-collar</td>\n",
       "      <td>married</td>\n",
       "      <td>unknown</td>\n",
       "      <td>no</td>\n",
       "      <td>1506</td>\n",
       "      <td>yes</td>\n",
       "      <td>no</td>\n",
       "      <td>unknown</td>\n",
       "      <td>5</td>\n",
       "      <td>5</td>\n",
       "      <td>92</td>\n",
       "      <td>1</td>\n",
       "      <td>-1</td>\n",
       "      <td>0</td>\n",
       "      <td>unknown</td>\n",
       "      <td>0</td>\n",
       "    </tr>\n",
       "    <tr>\n",
       "      <th>4</th>\n",
       "      <td>33</td>\n",
       "      <td>unknown</td>\n",
       "      <td>single</td>\n",
       "      <td>unknown</td>\n",
       "      <td>no</td>\n",
       "      <td>1</td>\n",
       "      <td>no</td>\n",
       "      <td>no</td>\n",
       "      <td>unknown</td>\n",
       "      <td>5</td>\n",
       "      <td>5</td>\n",
       "      <td>198</td>\n",
       "      <td>1</td>\n",
       "      <td>-1</td>\n",
       "      <td>0</td>\n",
       "      <td>unknown</td>\n",
       "      <td>0</td>\n",
       "    </tr>\n",
       "  </tbody>\n",
       "</table>\n",
       "</div>"
      ],
      "text/plain": [
       "   age           job  marital  education default  balance housing loan  \\\n",
       "0   58    management  married   tertiary      no     2143     yes   no   \n",
       "1   44    technician   single  secondary      no       29     yes   no   \n",
       "2   33  entrepreneur  married  secondary      no        2     yes  yes   \n",
       "3   47   blue-collar  married    unknown      no     1506     yes   no   \n",
       "4   33       unknown   single    unknown      no        1      no   no   \n",
       "\n",
       "   contact  day  month  duration  campaign  pdays  previous poutcome  Target  \n",
       "0  unknown    5      5       261         1     -1         0  unknown       0  \n",
       "1  unknown    5      5       151         1     -1         0  unknown       0  \n",
       "2  unknown    5      5        76         1     -1         0  unknown       0  \n",
       "3  unknown    5      5        92         1     -1         0  unknown       0  \n",
       "4  unknown    5      5       198         1     -1         0  unknown       0  "
      ]
     },
     "execution_count": 17,
     "metadata": {},
     "output_type": "execute_result"
    }
   ],
   "source": [
    "# encode the target variable with 0s and 1s\n",
    "dict = {\"yes\": 1, \"no\":0}\n",
    "bk2 = bk1.replace({\"Target\":dict}) # coding the Target variable\n",
    "bk2.head()"
   ]
  },
  {
   "cell_type": "code",
   "execution_count": 88,
   "metadata": {},
   "outputs": [
    {
     "data": {
      "text/html": [
       "<div>\n",
       "<style scoped>\n",
       "    .dataframe tbody tr th:only-of-type {\n",
       "        vertical-align: middle;\n",
       "    }\n",
       "\n",
       "    .dataframe tbody tr th {\n",
       "        vertical-align: top;\n",
       "    }\n",
       "\n",
       "    .dataframe thead th {\n",
       "        text-align: right;\n",
       "    }\n",
       "</style>\n",
       "<table border=\"1\" class=\"dataframe\">\n",
       "  <thead>\n",
       "    <tr style=\"text-align: right;\">\n",
       "      <th></th>\n",
       "      <th>age</th>\n",
       "      <th>balance</th>\n",
       "      <th>day</th>\n",
       "      <th>month</th>\n",
       "      <th>duration</th>\n",
       "      <th>campaign</th>\n",
       "      <th>pdays</th>\n",
       "      <th>previous</th>\n",
       "      <th>Target</th>\n",
       "      <th>job_admin.</th>\n",
       "      <th>...</th>\n",
       "      <th>housing_yes</th>\n",
       "      <th>loan_no</th>\n",
       "      <th>loan_yes</th>\n",
       "      <th>poutcome_failure</th>\n",
       "      <th>poutcome_other</th>\n",
       "      <th>poutcome_success</th>\n",
       "      <th>poutcome_unknown</th>\n",
       "      <th>contact_cellular</th>\n",
       "      <th>contact_telephone</th>\n",
       "      <th>contact_unknown</th>\n",
       "    </tr>\n",
       "  </thead>\n",
       "  <tbody>\n",
       "    <tr>\n",
       "      <th>0</th>\n",
       "      <td>58</td>\n",
       "      <td>2143</td>\n",
       "      <td>5</td>\n",
       "      <td>5</td>\n",
       "      <td>261</td>\n",
       "      <td>1</td>\n",
       "      <td>-1</td>\n",
       "      <td>0</td>\n",
       "      <td>0</td>\n",
       "      <td>0</td>\n",
       "      <td>...</td>\n",
       "      <td>1</td>\n",
       "      <td>1</td>\n",
       "      <td>0</td>\n",
       "      <td>0</td>\n",
       "      <td>0</td>\n",
       "      <td>0</td>\n",
       "      <td>1</td>\n",
       "      <td>0</td>\n",
       "      <td>0</td>\n",
       "      <td>1</td>\n",
       "    </tr>\n",
       "    <tr>\n",
       "      <th>1</th>\n",
       "      <td>44</td>\n",
       "      <td>29</td>\n",
       "      <td>5</td>\n",
       "      <td>5</td>\n",
       "      <td>151</td>\n",
       "      <td>1</td>\n",
       "      <td>-1</td>\n",
       "      <td>0</td>\n",
       "      <td>0</td>\n",
       "      <td>0</td>\n",
       "      <td>...</td>\n",
       "      <td>1</td>\n",
       "      <td>1</td>\n",
       "      <td>0</td>\n",
       "      <td>0</td>\n",
       "      <td>0</td>\n",
       "      <td>0</td>\n",
       "      <td>1</td>\n",
       "      <td>0</td>\n",
       "      <td>0</td>\n",
       "      <td>1</td>\n",
       "    </tr>\n",
       "    <tr>\n",
       "      <th>2</th>\n",
       "      <td>33</td>\n",
       "      <td>2</td>\n",
       "      <td>5</td>\n",
       "      <td>5</td>\n",
       "      <td>76</td>\n",
       "      <td>1</td>\n",
       "      <td>-1</td>\n",
       "      <td>0</td>\n",
       "      <td>0</td>\n",
       "      <td>0</td>\n",
       "      <td>...</td>\n",
       "      <td>1</td>\n",
       "      <td>0</td>\n",
       "      <td>1</td>\n",
       "      <td>0</td>\n",
       "      <td>0</td>\n",
       "      <td>0</td>\n",
       "      <td>1</td>\n",
       "      <td>0</td>\n",
       "      <td>0</td>\n",
       "      <td>1</td>\n",
       "    </tr>\n",
       "    <tr>\n",
       "      <th>3</th>\n",
       "      <td>47</td>\n",
       "      <td>1506</td>\n",
       "      <td>5</td>\n",
       "      <td>5</td>\n",
       "      <td>92</td>\n",
       "      <td>1</td>\n",
       "      <td>-1</td>\n",
       "      <td>0</td>\n",
       "      <td>0</td>\n",
       "      <td>0</td>\n",
       "      <td>...</td>\n",
       "      <td>1</td>\n",
       "      <td>1</td>\n",
       "      <td>0</td>\n",
       "      <td>0</td>\n",
       "      <td>0</td>\n",
       "      <td>0</td>\n",
       "      <td>1</td>\n",
       "      <td>0</td>\n",
       "      <td>0</td>\n",
       "      <td>1</td>\n",
       "    </tr>\n",
       "    <tr>\n",
       "      <th>4</th>\n",
       "      <td>33</td>\n",
       "      <td>1</td>\n",
       "      <td>5</td>\n",
       "      <td>5</td>\n",
       "      <td>198</td>\n",
       "      <td>1</td>\n",
       "      <td>-1</td>\n",
       "      <td>0</td>\n",
       "      <td>0</td>\n",
       "      <td>0</td>\n",
       "      <td>...</td>\n",
       "      <td>0</td>\n",
       "      <td>1</td>\n",
       "      <td>0</td>\n",
       "      <td>0</td>\n",
       "      <td>0</td>\n",
       "      <td>0</td>\n",
       "      <td>1</td>\n",
       "      <td>0</td>\n",
       "      <td>0</td>\n",
       "      <td>1</td>\n",
       "    </tr>\n",
       "  </tbody>\n",
       "</table>\n",
       "<p>5 rows × 41 columns</p>\n",
       "</div>"
      ],
      "text/plain": [
       "   age  balance  day  month  duration  campaign  pdays  previous  Target  \\\n",
       "0   58     2143    5      5       261         1     -1         0       0   \n",
       "1   44       29    5      5       151         1     -1         0       0   \n",
       "2   33        2    5      5        76         1     -1         0       0   \n",
       "3   47     1506    5      5        92         1     -1         0       0   \n",
       "4   33        1    5      5       198         1     -1         0       0   \n",
       "\n",
       "   job_admin.  ...  housing_yes  loan_no  loan_yes  poutcome_failure  \\\n",
       "0           0  ...            1        1         0                 0   \n",
       "1           0  ...            1        1         0                 0   \n",
       "2           0  ...            1        0         1                 0   \n",
       "3           0  ...            1        1         0                 0   \n",
       "4           0  ...            0        1         0                 0   \n",
       "\n",
       "   poutcome_other  poutcome_success  poutcome_unknown  contact_cellular  \\\n",
       "0               0                 0                 1                 0   \n",
       "1               0                 0                 1                 0   \n",
       "2               0                 0                 1                 0   \n",
       "3               0                 0                 1                 0   \n",
       "4               0                 0                 1                 0   \n",
       "\n",
       "   contact_telephone  contact_unknown  \n",
       "0                  0                1  \n",
       "1                  0                1  \n",
       "2                  0                1  \n",
       "3                  0                1  \n",
       "4                  0                1  \n",
       "\n",
       "[5 rows x 41 columns]"
      ]
     },
     "execution_count": 88,
     "metadata": {},
     "output_type": "execute_result"
    }
   ],
   "source": [
    "# using Onehot encoding to encode the categorical variables\n",
    "df = pd.get_dummies(bk2, columns =['job', 'marital', 'education','default', 'housing', 'loan', 'poutcome','contact'])\n",
    "df.head() # encoding the discrete variables using dummies "
   ]
  },
  {
   "cell_type": "markdown",
   "metadata": {},
   "source": [
    "### Split the dataset to training and test data"
   ]
  },
  {
   "cell_type": "code",
   "execution_count": 19,
   "metadata": {},
   "outputs": [
    {
     "data": {
      "text/plain": [
       "6149     0\n",
       "12403    0\n",
       "21645    0\n",
       "29580    0\n",
       "31245    0\n",
       "Name: Target, dtype: int64"
      ]
     },
     "execution_count": 19,
     "metadata": {},
     "output_type": "execute_result"
    }
   ],
   "source": [
    "# Spliting the data into training and test set in ratio of 70:30\n",
    "X = df.drop('Target',axis=1)     # Predictor feature columns (8 X m)\n",
    "Y = df['Target']   # Predicted class (1=True, 0=False) (1 X m)\n",
    "\n",
    "x_train, x_test, y_train, y_test = train_test_split(X, Y, test_size=0.3, random_state=1)\n",
    "# 1 is just any random seed number\n",
    "y_train.head()\n"
   ]
  },
  {
   "cell_type": "code",
   "execution_count": 20,
   "metadata": {},
   "outputs": [
    {
     "name": "stdout",
     "output_type": "stream",
     "text": [
      "70.00% data is in training set\n",
      "30.00% data is in test set\n"
     ]
    }
   ],
   "source": [
    "# checking the data split\n",
    "print(\"{0:0.2f}% data is in training set\".format((len(x_train)/len(bk.index)) * 100))\n",
    "print(\"{0:0.2f}% data is in test set\".format((len(x_test)/len(bk.index)) * 100))"
   ]
  },
  {
   "cell_type": "markdown",
   "metadata": {},
   "source": [
    "## 5.Build Standard classification models\n",
    "### Logistic Regression"
   ]
  },
  {
   "cell_type": "code",
   "execution_count": 49,
   "metadata": {
    "scrolled": true
   },
   "outputs": [
    {
     "name": "stdout",
     "output_type": "stream",
     "text": [
      "The coefficient for age is -0.000622114611316589\n",
      "The coefficient for balance is 2.3079429438857373e-05\n",
      "The coefficient for day is -0.007010445183927445\n",
      "The coefficient for month is -0.011566314374314574\n",
      "The coefficient for duration is 0.004657663198883581\n",
      "The coefficient for campaign is -0.11202506000430523\n",
      "The coefficient for pdays is 9.027489331250357e-05\n",
      "The coefficient for previous is 0.0248681581043557\n",
      "The coefficient for job_admin. is 0.30245375711971084\n",
      "The coefficient for job_blue-collar is -0.14861697504893467\n",
      "The coefficient for job_entrepreneur is -0.3359587711337459\n",
      "The coefficient for job_housemaid is -0.2288954521686032\n",
      "The coefficient for job_management is 0.058532468605303443\n",
      "The coefficient for job_retired is 0.7237673919942664\n",
      "The coefficient for job_self-employed is -0.16866527120940306\n",
      "The coefficient for job_services is -0.035600096123155144\n",
      "The coefficient for job_student is 0.8031953592992428\n",
      "The coefficient for job_technician is -0.007484432580681809\n",
      "The coefficient for job_unemployed is -0.017699147164452072\n",
      "The coefficient for job_unknown is -0.0027594642360726862\n",
      "The coefficient for marital_divorced is -0.3397811763583691\n",
      "The coefficient for marital_married is -0.4742612470285455\n",
      "The coefficient for marital_single is -0.17923394443213456\n",
      "The coefficient for education_primary is -0.37341774231846137\n",
      "The coefficient for education_secondary is -0.16110497902959617\n",
      "The coefficient for education_tertiary is 0.09659320003863309\n",
      "The coefficient for education_unknown is -0.05996274840147954\n",
      "The coefficient for default_no is -0.2860383056148487\n",
      "The coefficient for default_yes is -0.626796689860065\n",
      "The coefficient for housing_no is -0.013224971065559301\n",
      "The coefficient for housing_yes is -0.8388056881491381\n",
      "The coefficient for loan_no is -0.037015019326631995\n",
      "The coefficient for loan_yes is -0.6184974799570714\n",
      "The coefficient for poutcome_failure is -0.16460211797994215\n",
      "The coefficient for poutcome_other is -0.006209173038621753\n",
      "The coefficient for poutcome_success is 2.085578055997648\n",
      "The coefficient for poutcome_unknown is -0.4513841431033616\n",
      "The coefficient for contact_cellular is -0.6941976471424236\n",
      "The coefficient for contact_telephone is -0.6706146713358865\n",
      "The coefficient for contact_unknown is -1.8764863065221564\n",
      "The intercept for our model is -0.19084448546712418\n"
     ]
    }
   ],
   "source": [
    "#Defining the logistic regression model\n",
    "regression_model = LogisticRegression(solver=\"liblinear\", penalty = \"l1\", class_weight = {0: 1, 1:2})\n",
    "regression_model.fit(x_train, y_train)\n",
    "for idx, col_name in enumerate(x_train.columns): # calculate all the coefficient for the model\n",
    "    print(\"The coefficient for {} is {}\".format(col_name, regression_model.coef_[0][idx]))\n",
    "intercept = regression_model.intercept_[0]\n",
    "print(\"The intercept for our model is {}\".format(intercept)) # print the intercept for the model"
   ]
  },
  {
   "cell_type": "code",
   "execution_count": 50,
   "metadata": {},
   "outputs": [
    {
     "name": "stdout",
     "output_type": "stream",
     "text": [
      "The model accuracy in training set:0.8970\n",
      "The model accuracy in test set is:0.8993\n"
     ]
    }
   ],
   "source": [
    "# predicting the model accuracy in both training ang test data\n",
    "y_predict = regression_model.predict(x_test)\n",
    "print(\"The model accuracy in training set:{0:.4f}\".format(regression_model.score(x_train, y_train)))\n",
    "print(\"The model accuracy in test set is:{0:.4f}\".format(regression_model.score(x_test, y_test)))"
   ]
  },
  {
   "cell_type": "markdown",
   "metadata": {},
   "source": [
    "### Decision tree classifier"
   ]
  },
  {
   "cell_type": "code",
   "execution_count": 51,
   "metadata": {},
   "outputs": [
    {
     "name": "stdout",
     "output_type": "stream",
     "text": [
      "Model Accuracy in Test set: 0.8755\n"
     ]
    }
   ],
   "source": [
    "dt_model = DecisionTreeClassifier(criterion = 'gini', class_weight = {0: 1, 1:2})\n",
    "dt_model.fit(x_train, y_train)\n",
    "dt_model.score(x_test, y_test)\n",
    "y_predict_dt = dt_model.predict(x_test)\n",
    "print(\"Model Accuracy in Test set: {0:.4f}\".format(metrics.accuracy_score(y_test, y_predict_dt)))"
   ]
  },
  {
   "cell_type": "markdown",
   "metadata": {},
   "source": [
    "### Random forest classifier"
   ]
  },
  {
   "cell_type": "code",
   "execution_count": 52,
   "metadata": {},
   "outputs": [
    {
     "name": "stdout",
     "output_type": "stream",
     "text": [
      "Model Accuracy in Test set: 0.8994\n"
     ]
    },
    {
     "name": "stderr",
     "output_type": "stream",
     "text": [
      "C:\\Users\\thiruvenkadam\\Anaconda3\\lib\\site-packages\\sklearn\\ensemble\\forest.py:245: FutureWarning: The default value of n_estimators will change from 10 in version 0.20 to 100 in 0.22.\n",
      "  \"10 in version 0.20 to 100 in 0.22.\", FutureWarning)\n"
     ]
    }
   ],
   "source": [
    "rfcl = RandomForestClassifier(criterion = 'gini', class_weight = {0: 1, 1:2}, max_depth = 5, min_samples_leaf=5)\n",
    "rfcl = rfcl.fit(x_train, y_train)\n",
    "y_predict_rf = rfcl.predict(x_test)\n",
    "rfcl.score(x_test, y_test)\n",
    "print(\"Model Accuracy in Test set: {0:.4f}\".format(metrics.accuracy_score(y_test, y_predict_rf)))"
   ]
  },
  {
   "cell_type": "markdown",
   "metadata": {},
   "source": [
    "### Naive Bayes"
   ]
  },
  {
   "cell_type": "code",
   "execution_count": 54,
   "metadata": {},
   "outputs": [
    {
     "name": "stdout",
     "output_type": "stream",
     "text": [
      "Model Accuracy in Training set: 0.8232\n",
      "Model Accuracy in Test set: 0.8209\n"
     ]
    }
   ],
   "source": [
    "nb = GaussianNB()\n",
    "nb.fit(x_train, y_train)\n",
    "nb_ytrain_pred = nb.predict(x_train)\n",
    "y_nbpredict = nb.predict(x_test)\n",
    "print(\"Model Accuracy in Training set: {0:.4f}\".format(metrics.accuracy_score(y_train, nb_ytrain_pred)))\n",
    "print(\"Model Accuracy in Test set: {0:.4f}\".format(metrics.accuracy_score(y_test, y_nbpredict)))"
   ]
  },
  {
   "cell_type": "markdown",
   "metadata": {},
   "source": [
    "### Insights\n",
    "- Except the naive bayes all the other algorithms have accuracy of greater than 88% \n",
    "- Though the accuracy is fairly reasonable the model has very high dimension i.e the model is build with 40 variables of which many would not significantly contribute to the classification, hence we will apply the regularization in next section to reduce some dimensions"
   ]
  },
  {
   "cell_type": "markdown",
   "metadata": {},
   "source": [
    "## 6a.Ensemble using bagging"
   ]
  },
  {
   "cell_type": "code",
   "execution_count": 62,
   "metadata": {},
   "outputs": [
    {
     "name": "stderr",
     "output_type": "stream",
     "text": [
      "C:\\Users\\thiruvenkadam\\Anaconda3\\lib\\site-packages\\sklearn\\ensemble\\forest.py:245: FutureWarning: The default value of n_estimators will change from 10 in version 0.20 to 100 in 0.22.\n",
      "  \"10 in version 0.20 to 100 in 0.22.\", FutureWarning)\n",
      "C:\\Users\\thiruvenkadam\\Anaconda3\\lib\\site-packages\\sklearn\\ensemble\\forest.py:245: FutureWarning: The default value of n_estimators will change from 10 in version 0.20 to 100 in 0.22.\n",
      "  \"10 in version 0.20 to 100 in 0.22.\", FutureWarning)\n",
      "C:\\Users\\thiruvenkadam\\Anaconda3\\lib\\site-packages\\sklearn\\ensemble\\forest.py:245: FutureWarning: The default value of n_estimators will change from 10 in version 0.20 to 100 in 0.22.\n",
      "  \"10 in version 0.20 to 100 in 0.22.\", FutureWarning)\n",
      "C:\\Users\\thiruvenkadam\\Anaconda3\\lib\\site-packages\\sklearn\\ensemble\\forest.py:245: FutureWarning: The default value of n_estimators will change from 10 in version 0.20 to 100 in 0.22.\n",
      "  \"10 in version 0.20 to 100 in 0.22.\", FutureWarning)\n",
      "C:\\Users\\thiruvenkadam\\Anaconda3\\lib\\site-packages\\sklearn\\ensemble\\forest.py:245: FutureWarning: The default value of n_estimators will change from 10 in version 0.20 to 100 in 0.22.\n",
      "  \"10 in version 0.20 to 100 in 0.22.\", FutureWarning)\n",
      "C:\\Users\\thiruvenkadam\\Anaconda3\\lib\\site-packages\\sklearn\\ensemble\\forest.py:245: FutureWarning: The default value of n_estimators will change from 10 in version 0.20 to 100 in 0.22.\n",
      "  \"10 in version 0.20 to 100 in 0.22.\", FutureWarning)\n",
      "C:\\Users\\thiruvenkadam\\Anaconda3\\lib\\site-packages\\sklearn\\ensemble\\forest.py:245: FutureWarning: The default value of n_estimators will change from 10 in version 0.20 to 100 in 0.22.\n",
      "  \"10 in version 0.20 to 100 in 0.22.\", FutureWarning)\n",
      "C:\\Users\\thiruvenkadam\\Anaconda3\\lib\\site-packages\\sklearn\\ensemble\\forest.py:245: FutureWarning: The default value of n_estimators will change from 10 in version 0.20 to 100 in 0.22.\n",
      "  \"10 in version 0.20 to 100 in 0.22.\", FutureWarning)\n",
      "C:\\Users\\thiruvenkadam\\Anaconda3\\lib\\site-packages\\sklearn\\ensemble\\forest.py:245: FutureWarning: The default value of n_estimators will change from 10 in version 0.20 to 100 in 0.22.\n",
      "  \"10 in version 0.20 to 100 in 0.22.\", FutureWarning)\n",
      "C:\\Users\\thiruvenkadam\\Anaconda3\\lib\\site-packages\\sklearn\\ensemble\\forest.py:245: FutureWarning: The default value of n_estimators will change from 10 in version 0.20 to 100 in 0.22.\n",
      "  \"10 in version 0.20 to 100 in 0.22.\", FutureWarning)\n"
     ]
    },
    {
     "name": "stdout",
     "output_type": "stream",
     "text": [
      "Bagging model accuracy with Logistic regression estimator: 0.8988\n",
      "Bagging model accuracy with Decision tree estimator: 0.9032\n",
      "Bagging model accuracy with Random forest estimator: 0.9044\n",
      "Bagging model accuracy with Naive Bayes estimator: 0.8193\n"
     ]
    }
   ],
   "source": [
    "# Ensemble with Decision tree as base_estimator\n",
    "from sklearn.ensemble import BaggingClassifier\n",
    "bgcl_cart = BaggingClassifier(base_estimator=dt_model, n_estimators=10, max_samples= .7, bootstrap=True)\n",
    "bgcl_cart = bgcl_cart.fit(x_train, y_train)\n",
    "test_pred_bgcart = bgcl_cart.predict(x_test)\n",
    "# Ensemble with Decision tree as base_estimator\n",
    "bgcl_lgreg = BaggingClassifier(base_estimator=regression_model,n_estimators=10, max_samples= .7, bootstrap=True)\n",
    "bgcl_lgreg = bgcl_lgreg.fit(x_train, y_train)\n",
    "test_pred_bglgreg = bgcl_lgreg.predict(x_test)\n",
    "# Ensemble with Gaussian Naive Bayes as base_estimator\n",
    "bgcl_nb = BaggingClassifier(base_estimator=nb, n_estimators=10, max_samples= .7, bootstrap=True)\n",
    "bgcl_nb = bgcl_nb.fit(x_train, y_train)\n",
    "test_pred_bgnb = bgcl_nb.predict(x_test)\n",
    "# Ensemble with Random Forest as base_estimator\n",
    "bgcl_rf = BaggingClassifier(base_estimator=RandomForestClassifier(criterion = 'gini', class_weight={0:1,1:2}), n_estimators=10, max_samples= .7, bootstrap=True)\n",
    "bgcl_rf = bgcl_rf.fit(x_train, y_train)\n",
    "test_pred_bgrf = bgcl_rf.predict(x_test)\n",
    "\n",
    "#print the accuracy of all the bagging models\n",
    "print(\"Bagging model accuracy with Logistic regression estimator: {0:.4f}\".format(bgcl_lgreg.score(x_test, y_test)))\n",
    "print(\"Bagging model accuracy with Decision tree estimator: {0:.4f}\".format(bgcl_cart.score(x_test, y_test)))\n",
    "print(\"Bagging model accuracy with Random forest estimator: {0:.4f}\".format(bgcl_rf.score(x_test, y_test)))\n",
    "print(\"Bagging model accuracy with Naive Bayes estimator: {0:.4f}\".format(bgcl_nb.score(x_test, y_test)))"
   ]
  },
  {
   "cell_type": "markdown",
   "metadata": {},
   "source": [
    "## 6b Ensembling using gradient boosting"
   ]
  },
  {
   "cell_type": "code",
   "execution_count": 64,
   "metadata": {},
   "outputs": [
    {
     "name": "stderr",
     "output_type": "stream",
     "text": [
      "C:\\Users\\thiruvenkadam\\Anaconda3\\lib\\site-packages\\sklearn\\ensemble\\forest.py:245: FutureWarning: The default value of n_estimators will change from 10 in version 0.20 to 100 in 0.22.\n",
      "  \"10 in version 0.20 to 100 in 0.22.\", FutureWarning)\n"
     ]
    },
    {
     "name": "stdout",
     "output_type": "stream",
     "text": [
      "Gradient Boosting model accuracy with Logistic regression estimator: 0.9022\n",
      "Gradient Boosting model accuracy with Decision tree estimator: 0.8739\n",
      "Gradient Boosting model accuracy with Random forest estimator: 0.9022\n",
      "Gradient Boosting model accuracy with Naive Bayes estimator: 0.8548\n"
     ]
    }
   ],
   "source": [
    "# Ensemble with Decision tree as init\n",
    "from sklearn.ensemble import GradientBoostingClassifier\n",
    "gbcl_cart = GradientBoostingClassifier(init=DecisionTreeClassifier(class_weight = {0: 1, 1:2}), n_estimators = 50, learning_rate = 0.05)\n",
    "gbcl_cart = gbcl_cart.fit(x_train, y_train)\n",
    "test_pred_gbcart=gbcl_cart.predict(x_test)\n",
    "# Ensemble with Logistic regression estimator\n",
    "gbcl_lgreg = GradientBoostingClassifier(init=regression_model, n_estimators = 50, learning_rate = 0.05)\n",
    "gbcl_lgreg = gbcl_lgreg.fit(x_train, y_train)\n",
    "test_pred_gblgreg = gbcl_lgreg.predict(x_test)\n",
    "# Ensemble with Gaussian Naive Bayes as estimator\n",
    "gbcl_nb = GradientBoostingClassifier(init=nb, n_estimators = 10,learning_rate = 0.05)\n",
    "gbcl_nb = gbcl_nb.fit(x_train, y_train)\n",
    "test_pred_gbnb = gbcl_nb.predict(x_test)\n",
    "# Ensemble with Random Forest as estimator\n",
    "gbcl_rf = GradientBoostingClassifier(init=RandomForestClassifier(criterion = 'gini', class_weight={0:1,1:2}), n_estimators = 50, learning_rate = 0.05)\n",
    "gbcl_rf = gbcl_rf.fit(x_train, y_train)\n",
    "test_pred_gbrf = gbcl_rf.predict(x_test)\n",
    "#print the accuracy of all the gradient boosting model\n",
    "print(\"Gradient Boosting model accuracy with Logistic regression estimator: {0:.4f}\".format(gbcl_lgreg.score(x_test, y_test)))\n",
    "print(\"Gradient Boosting model accuracy with Decision tree estimator: {0:.4f}\".format(gbcl_cart.score(x_test, y_test)))\n",
    "print(\"Gradient Boosting model accuracy with Random forest estimator: {0:.4f}\".format(gbcl_rf.score(x_test, y_test)))\n",
    "print(\"Gradient Boosting model accuracy with Naive Bayes estimator: {0:.4f}\".format(gbcl_nb.score(x_test, y_test)))"
   ]
  },
  {
   "cell_type": "markdown",
   "metadata": {},
   "source": [
    "### Insights\n",
    "- The accuracy of models with a good accuracy doesnt seem to have any significant improvement by bagging or boosting ensembling whereas the models with previously low accuracy like Naive Bayes have a improved accuracy. The standard Naive Bayes model has a accuracy of 82% wherease the ensembled model has accuracy of 86.7 and 88.7% respectively for bagged and boosted models"
   ]
  },
  {
   "cell_type": "markdown",
   "metadata": {},
   "source": [
    "## 7. Comparing the all the models - Standard Vs Bagging Vs Gradient Boosting"
   ]
  },
  {
   "cell_type": "code",
   "execution_count": 65,
   "metadata": {},
   "outputs": [],
   "source": [
    "# Logistic regression_Standard - Confusion Matrix\n",
    "cmlgreg=metrics.confusion_matrix(y_test, y_predict, labels=[1, 0])\n",
    "df_cmlgreg = pd.DataFrame(cmlgreg, index = [i for i in [\"1\",\"0\"]],\n",
    "                  columns = [i for i in [\"Predict 1\",\"Predict 0\"]])\n",
    "# Regularized Logistic regression bagging - Confusion Matrix \n",
    "cm_bglgreg=metrics.confusion_matrix(y_test, test_pred_bglgreg, labels=[1, 0])\n",
    "df_cm_bglgreg = pd.DataFrame(cm_bglgreg, index = [i for i in [\"1\",\"0\"]],\n",
    "                  columns = [i for i in [\"Predict 1\",\"Predict 0\"]])\n",
    "# Regularized Logistic regression boosting - Confusion Matrix \n",
    "cm_gblgreg=metrics.confusion_matrix(y_test, test_pred_gblgreg, labels=[1, 0])\n",
    "df_cm_gblgreg = pd.DataFrame(cm_gblgreg, index = [i for i in [\"1\",\"0\"]],\n",
    "                  columns = [i for i in [\"Predict 1\",\"Predict 0\"]])\n",
    "# Decision tree_Standard - Confusion Matrix\n",
    "cmdt=metrics.confusion_matrix(y_test, y_predict_dt, labels=[1, 0])\n",
    "df_cmdt = pd.DataFrame(cmdt, index = [i for i in [\"1\",\"0\"]],\n",
    "                  columns = [i for i in [\"Predict 1\",\"Predict 0\"]])\n",
    "# Regularized Decision tree bagging - Confusion Matrix \n",
    "cm_bgdt=metrics.confusion_matrix(y_test, test_pred_bgcart, labels=[1, 0])\n",
    "df_cm_bgdt = pd.DataFrame(cm_bgdt, index = [i for i in [\"1\",\"0\"]],\n",
    "                  columns = [i for i in [\"Predict 1\",\"Predict 0\"]])\n",
    "# Regularized Decision tree boosting - Confusion Matrix \n",
    "cm_gbdt=metrics.confusion_matrix(y_test, test_pred_gbcart, labels=[1, 0])\n",
    "df_cm_gbdt = pd.DataFrame(cm_gbdt, index = [i for i in [\"1\",\"0\"]],\n",
    "                  columns = [i for i in [\"Predict 1\",\"Predict 0\"]])\n",
    "# Random forest_Standard - Confusion Matrix\n",
    "cmrf=metrics.confusion_matrix(y_test, y_predict_rf, labels=[1, 0])\n",
    "df_cmrf = pd.DataFrame(cmrf, index = [i for i in [\"1\",\"0\"]],\n",
    "                  columns = [i for i in [\"Predict 1\",\"Predict 0\"]])\n",
    "# Regularized Random forest bagging - Confusion Matrix \n",
    "cm_bgrf=metrics.confusion_matrix(y_test, test_pred_bgrf, labels=[1, 0])\n",
    "df_cm_bgrf = pd.DataFrame(cm_bgrf, index = [i for i in [\"1\",\"0\"]],\n",
    "                  columns = [i for i in [\"Predict 1\",\"Predict 0\"]])\n",
    "# Regularized Random forest boosting - Confusion Matrix \n",
    "cm_gbrf=metrics.confusion_matrix(y_test, test_pred_gbrf, labels=[1, 0])\n",
    "df_cm_gbrf = pd.DataFrame(cm_gbrf, index = [i for i in [\"1\",\"0\"]],\n",
    "                  columns = [i for i in [\"Predict 1\",\"Predict 0\"]])\n",
    "# Naive Bayes_Standard - Confusion Matrix\n",
    "cmnb=metrics.confusion_matrix(y_test, y_nbpredict, labels=[1, 0])\n",
    "df_cmnb = pd.DataFrame(cmnb, index = [i for i in [\"1\",\"0\"]],\n",
    "                  columns = [i for i in [\"Predict 1\",\"Predict 0\"]])\n",
    "# Regularized Naive Bayes bagging - Confusion Matrix \n",
    "cm_bgnb=metrics.confusion_matrix(y_test, test_pred_bgnb, labels=[1, 0])\n",
    "df_cm_bgnb = pd.DataFrame(cm_bgnb, index = [i for i in [\"1\",\"0\"]],\n",
    "                  columns = [i for i in [\"Predict 1\",\"Predict 0\"]])\n",
    "# Regularized Naive Bayes boosting - Confusion Matrix \n",
    "cm_gbnb=metrics.confusion_matrix(y_test, test_pred_gbnb, labels=[1, 0])\n",
    "df_cm_gbnb = pd.DataFrame(cm_gbnb, index = [i for i in [\"1\",\"0\"]],\n",
    "                  columns = [i for i in [\"Predict 1\",\"Predict 0\"]])"
   ]
  },
  {
   "cell_type": "markdown",
   "metadata": {},
   "source": [
    "### Decision tree - Confusion Matrix heatmap and Classification report "
   ]
  },
  {
   "cell_type": "code",
   "execution_count": 66,
   "metadata": {},
   "outputs": [
    {
     "name": "stdout",
     "output_type": "stream",
     "text": [
      "Classification score - Decision tree standard:\n",
      "               precision    recall  f1-score   support\n",
      "\n",
      "           0       0.93      0.93      0.93     12013\n",
      "           1       0.46      0.48      0.47      1551\n",
      "\n",
      "    accuracy                           0.88     13564\n",
      "   macro avg       0.69      0.70      0.70     13564\n",
      "weighted avg       0.88      0.88      0.88     13564\n",
      "\n",
      "Classification score - Regularized Decision tree with bagging:\n",
      "               precision    recall  f1-score   support\n",
      "\n",
      "           0       0.93      0.97      0.95     12013\n",
      "           1       0.62      0.40      0.48      1551\n",
      "\n",
      "    accuracy                           0.90     13564\n",
      "   macro avg       0.77      0.68      0.71     13564\n",
      "weighted avg       0.89      0.90      0.89     13564\n",
      "\n",
      "Classification score - Regularized Decision tree with boosting:\n",
      "               precision    recall  f1-score   support\n",
      "\n",
      "           0       0.93      0.93      0.93     12013\n",
      "           1       0.45      0.47      0.46      1551\n",
      "\n",
      "    accuracy                           0.87     13564\n",
      "   macro avg       0.69      0.70      0.69     13564\n",
      "weighted avg       0.88      0.87      0.88     13564\n",
      "\n"
     ]
    },
    {
     "data": {
      "image/png": "[encoded data removed]",
      "text/plain": [
       "<Figure size 1440x360 with 6 Axes>"
      ]
     },
     "metadata": {
      "needs_background": "light"
     },
     "output_type": "display_data"
    }
   ],
   "source": [
    "# Confusion matrix heat map - Decision tree  - Standard vs Regularized bagging vs Regularized boosting\n",
    "plt.figure(figsize = (20,5))\n",
    "# print classification report with precision, recall, accuracy, f1 score and support\n",
    "print(\"Classification score - Decision tree standard:\\n\",\n",
    "      (classification_report(y_test, y_predict_dt)))\n",
    "print(\"Classification score - Regularized Decision tree with bagging:\\n\",\n",
    "      (classification_report(y_test, test_pred_bgcart)))\n",
    "print(\"Classification score - Regularized Decision tree with boosting:\\n\",\n",
    "      (classification_report(y_test, test_pred_gbcart)))\n",
    "plt.subplot(131)\n",
    "ax1=sns.heatmap(df_cmdt, cmap=\"Accent\", annot=True,fmt = '')\n",
    "ax1.title.set_text('Decision Tree - Standard')\n",
    "plt.subplot(132)\n",
    "ax2=sns.heatmap(df_cm_bgdt, cmap=\"Accent\", annot=True, fmt = '')\n",
    "ax2.title.set_text('Regularized Decision Tree with Bagging')\n",
    "plt.subplot(133)\n",
    "ax3=sns.heatmap(df_cm_gbdt, cmap=\"Accent\", annot=True, fmt = '')\n",
    "ax3.title.set_text('Regularized Decision Tree with Gradient Boosting')"
   ]
  },
  {
   "cell_type": "markdown",
   "metadata": {},
   "source": [
    "### Insights\n",
    "- The standard decision tree has a accuracy of 88% which is improved to 90% with bagging method whereas it is just 87% with gradient boosting. Hence bagging ensembling technique had increased the accuracy by 3% compared to standard decision tree\n",
    "- Though the accuracy is at 90% the precision and recall of the predicting a customer who would opt for the term deposit is just around 50% across all the models. "
   ]
  },
  {
   "cell_type": "markdown",
   "metadata": {},
   "source": [
    "### Naive Bayes - Confusion Matrix heatmap and Classification report "
   ]
  },
  {
   "cell_type": "code",
   "execution_count": 67,
   "metadata": {},
   "outputs": [
    {
     "name": "stdout",
     "output_type": "stream",
     "text": [
      "Classification score - Naive Bayes standard:\n",
      "               precision    recall  f1-score   support\n",
      "\n",
      "           0       0.94      0.85      0.89     12013\n",
      "           1       0.33      0.56      0.42      1551\n",
      "\n",
      "    accuracy                           0.82     13564\n",
      "   macro avg       0.63      0.71      0.66     13564\n",
      "weighted avg       0.87      0.82      0.84     13564\n",
      "\n",
      "Classification score - Regularized Naive Bayes with bagging:\n",
      "               precision    recall  f1-score   support\n",
      "\n",
      "           0       0.94      0.85      0.89     12013\n",
      "           1       0.33      0.56      0.42      1551\n",
      "\n",
      "    accuracy                           0.82     13564\n",
      "   macro avg       0.63      0.71      0.65     13564\n",
      "weighted avg       0.87      0.82      0.84     13564\n",
      "\n",
      "Classification score - Regularized Naive Bayes with boosting:\n",
      "               precision    recall  f1-score   support\n",
      "\n",
      "           0       0.93      0.90      0.92     12013\n",
      "           1       0.39      0.51      0.44      1551\n",
      "\n",
      "    accuracy                           0.85     13564\n",
      "   macro avg       0.66      0.70      0.68     13564\n",
      "weighted avg       0.87      0.85      0.86     13564\n",
      "\n"
     ]
    },
    {
     "data": {
      "image/png": "[encoded data removed]",
      "text/plain": [
       "<Figure size 1440x360 with 6 Axes>"
      ]
     },
     "metadata": {
      "needs_background": "light"
     },
     "output_type": "display_data"
    }
   ],
   "source": [
    "# Confusion matrix heat map - Naive Bayes - Standard vs Regularized bagging vs Regularized boosting\n",
    "plt.figure(figsize = (20,5))\n",
    "# print classification report with precision, recall, accuracy, f1 score and support\n",
    "print(\"Classification score - Naive Bayes standard:\\n\",\n",
    "      (classification_report(y_test, y_nbpredict)))\n",
    "print(\"Classification score - Regularized Naive Bayes with bagging:\\n\",\n",
    "      (classification_report(y_test, test_pred_bgnb)))\n",
    "print(\"Classification score - Regularized Naive Bayes with boosting:\\n\",\n",
    "      (classification_report(y_test, test_pred_gbnb)))\n",
    "plt.subplot(131)\n",
    "ax1=sns.heatmap(df_cmnb, cmap=\"Accent\", annot=True,fmt = '')\n",
    "ax1.title.set_text('Naive Bayes - Standard')\n",
    "plt.subplot(132)\n",
    "ax2=sns.heatmap(df_cm_bgnb, cmap=\"Accent\", annot=True, fmt = '')\n",
    "ax2.title.set_text('Regularized Naive Bayes with Bagging')\n",
    "plt.subplot(133)\n",
    "ax3=sns.heatmap(df_cm_gbnb, cmap=\"Accent\", annot=True, fmt = '')\n",
    "ax3.title.set_text('Regularized Naive Bayes with Gradient Boosting')"
   ]
  },
  {
   "cell_type": "markdown",
   "metadata": {},
   "source": [
    "### Insights\n",
    "- The standard Naive Bayes has a accuracy of 82% which is improved to 85% with boosting method whereas it remains the same with bagging method. Hence gradient boosting ensembling technique had increased the accuracy by 3% compared to standard Naive Bayes\n",
    "- Though the accuracy is at 90% the precision and recall of the predicting a customer who would opt for the term deposit is just around 40% and 60% respectively for  all the models."
   ]
  },
  {
   "cell_type": "markdown",
   "metadata": {},
   "source": [
    "### Logistic Regression - Confusion Matrix heatmap and Classification report "
   ]
  },
  {
   "cell_type": "code",
   "execution_count": 68,
   "metadata": {},
   "outputs": [
    {
     "name": "stdout",
     "output_type": "stream",
     "text": [
      "Classification score - Logistic Regression standard:\n",
      "               precision    recall  f1-score   support\n",
      "\n",
      "           0       0.93      0.95      0.94     12013\n",
      "           1       0.57      0.48      0.52      1551\n",
      "\n",
      "    accuracy                           0.90     13564\n",
      "   macro avg       0.75      0.72      0.73     13564\n",
      "weighted avg       0.89      0.90      0.90     13564\n",
      "\n",
      "Classification score - Regularized Logistic Regression with bagging:\n",
      "               precision    recall  f1-score   support\n",
      "\n",
      "           0       0.93      0.95      0.94     12013\n",
      "           1       0.57      0.49      0.52      1551\n",
      "\n",
      "    accuracy                           0.90     13564\n",
      "   macro avg       0.75      0.72      0.73     13564\n",
      "weighted avg       0.89      0.90      0.90     13564\n",
      "\n",
      "Classification score - Regularized Logistic Regression with boosting:\n",
      "               precision    recall  f1-score   support\n",
      "\n",
      "           0       0.92      0.97      0.95     12013\n",
      "           1       0.62      0.37      0.46      1551\n",
      "\n",
      "    accuracy                           0.90     13564\n",
      "   macro avg       0.77      0.67      0.70     13564\n",
      "weighted avg       0.89      0.90      0.89     13564\n",
      "\n"
     ]
    },
    {
     "data": {
      "image/png": "[encoded data removed]",
      "text/plain": [
       "<Figure size 1440x360 with 6 Axes>"
      ]
     },
     "metadata": {
      "needs_background": "light"
     },
     "output_type": "display_data"
    }
   ],
   "source": [
    "# Confusion matrix heat map - Logistic Regression - Standard vs Regularized bagging vs Regularized boosting\n",
    "plt.figure(figsize = (20,5))\n",
    "# print classification report with precision, recall, accuracy, f1 score and support\n",
    "print(\"Classification score - Logistic Regression standard:\\n\",\n",
    "      (classification_report(y_test, y_predict)))\n",
    "print(\"Classification score - Regularized Logistic Regression with bagging:\\n\",\n",
    "      (classification_report(y_test, test_pred_bglgreg)))\n",
    "print(\"Classification score - Regularized Logistic Regression with boosting:\\n\",\n",
    "      (classification_report(y_test, test_pred_gblgreg)))\n",
    "plt.subplot(131)\n",
    "ax1=sns.heatmap(df_cmlgreg, cmap=\"Accent\", annot=True,fmt = '')\n",
    "ax1.title.set_text('Logistic Regression - Standard')\n",
    "plt.subplot(132)\n",
    "ax2=sns.heatmap(df_cm_bglgreg, cmap=\"Accent\", annot=True, fmt = '')\n",
    "ax2.title.set_text('Regularized Logistic Regression with Bagging')\n",
    "plt.subplot(133)\n",
    "ax3=sns.heatmap(df_cm_gblgreg, cmap=\"Accent\", annot=True, fmt = '')\n",
    "ax3.title.set_text('Regularized Logistic Regression with Gradient Boosting')"
   ]
  },
  {
   "cell_type": "markdown",
   "metadata": {},
   "source": [
    "### Insights\n",
    "- The standard Logistic regression has a accuracy of 89.33% which is improved to 89.88% with bagging method and even further improved to 90.22% with gradient boosting method. Hence gradient boosting ensembling technique had increased the accuracy by 1% compared to standard Logistic regression\n",
    "- Though the accuracy is at 90% the precision and recall of the predicting a customer who would opt for the term deposit is just around 60% and 40+% respectively for  all the models. "
   ]
  },
  {
   "cell_type": "markdown",
   "metadata": {},
   "source": [
    "### Random Forest - Confusion Matrix heatmap and Classification report "
   ]
  },
  {
   "cell_type": "code",
   "execution_count": 69,
   "metadata": {
    "scrolled": true
   },
   "outputs": [
    {
     "name": "stdout",
     "output_type": "stream",
     "text": [
      "Classification score - Random Forest standard:\n",
      "               precision    recall  f1-score   support\n",
      "\n",
      "           0       0.92      0.98      0.95     12013\n",
      "           1       0.62      0.30      0.41      1551\n",
      "\n",
      "    accuracy                           0.90     13564\n",
      "   macro avg       0.77      0.64      0.68     13564\n",
      "weighted avg       0.88      0.90      0.88     13564\n",
      "\n",
      "Classification score - Regularized Random Forest with bagging:\n",
      "               precision    recall  f1-score   support\n",
      "\n",
      "           0       0.92      0.98      0.95     12013\n",
      "           1       0.67      0.32      0.43      1551\n",
      "\n",
      "    accuracy                           0.90     13564\n",
      "   macro avg       0.79      0.65      0.69     13564\n",
      "weighted avg       0.89      0.90      0.89     13564\n",
      "\n",
      "Classification score - Regularized Random Forest with boosting:\n",
      "               precision    recall  f1-score   support\n",
      "\n",
      "           0       0.93      0.96      0.95     12013\n",
      "           1       0.60      0.44      0.51      1551\n",
      "\n",
      "    accuracy                           0.90     13564\n",
      "   macro avg       0.76      0.70      0.73     13564\n",
      "weighted avg       0.89      0.90      0.90     13564\n",
      "\n"
     ]
    },
    {
     "data": {
      "image/png": "[encoded data removed]",
      "text/plain": [
       "<Figure size 1440x360 with 6 Axes>"
      ]
     },
     "metadata": {
      "needs_background": "light"
     },
     "output_type": "display_data"
    }
   ],
   "source": [
    "# Confusion matrix heat map - Random Forest- Standard vs Regularized bagging vs Regularized boosting\n",
    "plt.figure(figsize = (20,5))\n",
    "# print classification report with precision, recall, accuracy, f1 score and support\n",
    "print(\"Classification score - Random Forest standard:\\n\",\n",
    "      (classification_report(y_test, y_predict_rf)))\n",
    "print(\"Classification score - Regularized Random Forest with bagging:\\n\",\n",
    "      (classification_report(y_test, test_pred_bgrf)))\n",
    "print(\"Classification score - Regularized Random Forest with boosting:\\n\",\n",
    "      (classification_report(y_test, test_pred_gbrf)))\n",
    "plt.subplot(131)\n",
    "ax1=sns.heatmap(df_cmrf, cmap=\"Accent\", annot=True,fmt = '')\n",
    "ax1.title.set_text('Random Forest - Standard')\n",
    "plt.subplot(132)\n",
    "ax2=sns.heatmap(df_cm_bgrf, cmap=\"Accent\", annot=True, fmt = '')\n",
    "ax2.title.set_text('Regularized Random Forest  with Bagging')\n",
    "plt.subplot(133)\n",
    "ax3=sns.heatmap(df_cm_gbrf, cmap=\"Accent\", annot=True, fmt = '')\n",
    "ax3.title.set_text('Regularized Random Forest  with Gradient Boosting')"
   ]
  },
  {
   "cell_type": "markdown",
   "metadata": {},
   "source": [
    "\n",
    "### Insights\n",
    "- The standard Random forest has a accuracy of 90% which remains the same after ensembling with bagging and gradient boosting method. Hence no improvement in overall accuracy with any of the methods\n",
    "- Though the overall accuracy is not improved by ensembling methods, the precision and recall of predicting the customers who subscribe for term deposit have significantly improved with ensembling technique. The precision and recall with standard method is around 60% and 30% respectively which had improved to 60% and 44% post gradient bossting there by resulting in better prediction of which customer would choose to take the term deposit"
   ]
  },
  {
   "cell_type": "markdown",
   "metadata": {},
   "source": [
    "## Final conclusion\n",
    "- We used 4 classification algorithms i.e Logistic Regression, Naive Bayes, Decision Tree and Random forest. All these 4 algorithms were used with  1. Standard, 2. Bagging and 3. Gradiient Boosting techniques. \n",
    "\n",
    "- Finally we can see there is a significant improvement in either accuracy or precision and recall.This helps with better predicting the right customers who would subscribe to the term deposits. Hence any of the ensemble methods always provide a better prediction than any of standard predictive algorithm.\n",
    "\n",
    "- Also we can see that the algorithms like Logistic regression which naturally has very low tendency of overfitting gets very less benefit in ensembling whereas algorithms like Decision tree and Naive Bayes which are weak learners / overfit the training set, gets more benefit in ensembling it through bagging or boosting."
   ]
  }
 ],
 "metadata": {
  "kernelspec": {
   "display_name": "Python 3",
   "language": "python",
   "name": "python3"
  },
  "language_info": {
   "codemirror_mode": {
    "name": "ipython",
    "version": 3
   },
   "file_extension": ".py",
   "mimetype": "text/x-python",
   "name": "python",
   "nbconvert_exporter": "python",
   "pygments_lexer": "ipython3",
   "version": "3.7.3"
  }
 },
 "nbformat": 4,
 "nbformat_minor": 2
}
